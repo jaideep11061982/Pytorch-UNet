{
  "cells": [
    {
      "cell_type": "markdown",
      "metadata": {
        "id": "view-in-github",
        "colab_type": "text"
      },
      "source": [
        "<a href=\"https://colab.research.google.com/github/jaideep11061982/Pytorch-UNet/blob/master/simple_unet_pytorch_baseline_train.ipynb\" target=\"_parent\"><img src=\"https://colab.research.google.com/assets/colab-badge.svg\" alt=\"Open In Colab\"/></a>"
      ]
    },
    {
      "cell_type": "markdown",
      "id": "20420d3f",
      "metadata": {
        "papermill": {
          "duration": 0.008778,
          "end_time": "2023-07-08T19:54:12.203883",
          "exception": false,
          "start_time": "2023-07-08T19:54:12.195105",
          "status": "completed"
        },
        "tags": [],
        "id": "20420d3f"
      },
      "source": [
        "# Simple Unet Baseline (Train)\n",
        "\n",
        "This is the training part of the two part Unet Baseline for this competition.\n",
        "#### Inference Notebook: [Simple Unet Baseline (Infer)][1].\n",
        "You can find the notebook to create the dataset used for training [here][2] to get a better understanding of how everything works.\n",
        "* Smp library is used to get the unet model.\n",
        "* EfficientNetB0 is used as the backbone initialized on imagenet weight.\n",
        "* Ash color images are used for training (With only the labeled frames and human_pixel_masks.\n",
        "* Custom implementation of dice score is used according to this competition.\n",
        "* After training, we find the best threshold for the valid set, which will then be used for the submission.\n",
        "* Wandb can also be used with this notebook to log experiments, just uncomment the wandb code snippets.\n",
        "\n",
        "**Version 5** Updates:\n",
        "* Added some Augmentations\n",
        "* Trained for more Epochs\n",
        "* Option to increase image size\n",
        "\n",
        "### Please upvote if you find this useful.\n",
        "\n",
        "[1]: https://www.kaggle.com/code/shashwatraman/simple-unet-pytorch-baseline-infer\n",
        "[2]: https://www.kaggle.com/code/shashwatraman/contrails-dataset-ash-color/notebook"
      ]
    },
    {
      "cell_type": "code",
      "source": [
        "install='N'\n",
        "if install=='Y':\n",
        "\n",
        "  !mkdir -p ~/.kaggle\n",
        "  !cp kaggle.json ~/.kaggle/\n",
        "  !pip install segmentation_models_pytorch\n",
        "  #!mkdir ../input/\n",
        "  #!mkdir ../input/gi-dataset-fold\n",
        "  #!mkdir ../input/uwmgi-25d-stride2-dataset\n",
        "  #!kaggle datasets download -d awsaf49/uwmgi-25d-stride2-dataset\n",
        "  #!kaggle datasets download -d jaideepvalani/gi-trac-public-part1\n",
        "  !kaggle datasets download -d shashwatraman/contrails-images-ash-color\n",
        "  !pip install transformers\n",
        "  !mkdir ../input/\n",
        "  !mkdir ../input/contrails-images-ash-color\n",
        "  !mkdir ../input/contrails-images-ash-color/contrails/\n",
        "  !unzip -q  /content/contrails-images-ash-color.zip -d  .\n",
        "  !mv /content/contrails/*.npy ../input/contrails-images-ash-color/contrails/"
      ],
      "metadata": {
        "id": "WXgbfEQjzWWA"
      },
      "id": "WXgbfEQjzWWA",
      "execution_count": 1,
      "outputs": []
    },
    {
      "cell_type": "code",
      "source": [
        "\n",
        "#!unzip -q  /content/contrails-images-ash-color.zip -d  .\n",
        "#!mv /content/contrails/*.npy ../input/contrails-images-ash-color/contrails/\n",
        "#!unzip -q  /content/gi-trac-public-part1.zip -d  .\n",
        "!mv *.csv  ../input/contrails-images-ash-color/"
      ],
      "metadata": {
        "id": "B3NQ0tOmz_gw",
        "colab": {
          "base_uri": "https://localhost:8080/"
        },
        "outputId": "d761e40e-6b89-4b2b-98ff-ce0dccad06f0"
      },
      "id": "B3NQ0tOmz_gw",
      "execution_count": 2,
      "outputs": [
        {
          "output_type": "stream",
          "name": "stdout",
          "text": [
            "mv: cannot stat '*.csv': No such file or directory\n"
          ]
        }
      ]
    },
    {
      "cell_type": "code",
      "source": [
        "#!mv /content/contrails/*.npy ../input/contrails-images-ash-color/contrails/"
      ],
      "metadata": {
        "id": "nrQlzKZ5302b"
      },
      "id": "nrQlzKZ5302b",
      "execution_count": 3,
      "outputs": []
    },
    {
      "cell_type": "code",
      "source": [
        "#!unzip -q /content/contrails-images-ash-color.zip #-d ../input/"
      ],
      "metadata": {
        "id": "Y6x00d9-2XYg"
      },
      "id": "Y6x00d9-2XYg",
      "execution_count": 4,
      "outputs": []
    },
    {
      "cell_type": "code",
      "source": [
        "#!ls -l /content/contrails/\n",
        "!nvidia-smi"
      ],
      "metadata": {
        "colab": {
          "base_uri": "https://localhost:8080/"
        },
        "id": "Ab-lssC93LaU",
        "outputId": "d238d085-4de4-45ce-ee2e-26dff4798179"
      },
      "id": "Ab-lssC93LaU",
      "execution_count": 5,
      "outputs": [
        {
          "output_type": "stream",
          "name": "stdout",
          "text": [
            "Sat Jul 22 16:49:55 2023       \n",
            "+-----------------------------------------------------------------------------+\n",
            "| NVIDIA-SMI 525.105.17   Driver Version: 525.105.17   CUDA Version: 12.0     |\n",
            "|-------------------------------+----------------------+----------------------+\n",
            "| GPU  Name        Persistence-M| Bus-Id        Disp.A | Volatile Uncorr. ECC |\n",
            "| Fan  Temp  Perf  Pwr:Usage/Cap|         Memory-Usage | GPU-Util  Compute M. |\n",
            "|                               |                      |               MIG M. |\n",
            "|===============================+======================+======================|\n",
            "|   0  NVIDIA A100-SXM...  Off  | 00000000:00:04.0 Off |                    0 |\n",
            "| N/A   33C    P0    43W / 400W |      0MiB / 40960MiB |      0%      Default |\n",
            "|                               |                      |             Disabled |\n",
            "+-------------------------------+----------------------+----------------------+\n",
            "                                                                               \n",
            "+-----------------------------------------------------------------------------+\n",
            "| Processes:                                                                  |\n",
            "|  GPU   GI   CI        PID   Type   Process name                  GPU Memory |\n",
            "|        ID   ID                                                   Usage      |\n",
            "|=============================================================================|\n",
            "|  No running processes found                                                 |\n",
            "+-----------------------------------------------------------------------------+\n"
          ]
        }
      ]
    },
    {
      "cell_type": "markdown",
      "id": "d2658f72",
      "metadata": {
        "papermill": {
          "duration": 0.007874,
          "end_time": "2023-07-08T19:54:12.220077",
          "exception": false,
          "start_time": "2023-07-08T19:54:12.212203",
          "status": "completed"
        },
        "tags": [],
        "id": "d2658f72"
      },
      "source": [
        "## Import Libraries"
      ]
    },
    {
      "cell_type": "code",
      "execution_count": 6,
      "id": "08096849",
      "metadata": {
        "_cell_guid": "b1076dfc-b9ad-4769-8c92-a6c4dae69d19",
        "_kg_hide-output": true,
        "_uuid": "8f2839f25d086af736a60e9eeb907d3b93b6e0e5",
        "execution": {
          "iopub.execute_input": "2023-07-08T19:54:12.237628Z",
          "iopub.status.busy": "2023-07-08T19:54:12.237293Z",
          "iopub.status.idle": "2023-07-08T19:54:25.636265Z",
          "shell.execute_reply": "2023-07-08T19:54:25.635383Z"
        },
        "papermill": {
          "duration": 13.410157,
          "end_time": "2023-07-08T19:54:25.638322",
          "exception": false,
          "start_time": "2023-07-08T19:54:12.228165",
          "status": "completed"
        },
        "tags": [],
        "colab": {
          "base_uri": "https://localhost:8080/",
          "height": 35
        },
        "id": "08096849",
        "outputId": "b647a82d-d4c4-48db-837c-9de874f13bfe"
      },
      "outputs": [
        {
          "output_type": "execute_result",
          "data": {
            "text/plain": [
              "'2.0.1+cu118'"
            ],
            "application/vnd.google.colaboratory.intrinsic+json": {
              "type": "string"
            }
          },
          "metadata": {},
          "execution_count": 6
        }
      ],
      "source": [
        "from pathlib import Path\n",
        "import os\n",
        "import random\n",
        "import math\n",
        "from collections import defaultdict\n",
        "import cv2\n",
        "import skimage\n",
        "\n",
        "import numpy as np\n",
        "import pandas as pd\n",
        "import matplotlib.pyplot as plt\n",
        "\n",
        "import torch\n",
        "from torch import nn\n",
        "from torchvision import transforms\n",
        "from torch.utils.data import Dataset, DataLoader\n",
        "import albumentations as A\n",
        "import torch.nn.functional as F\n",
        "\n",
        "from PIL import Image\n",
        "from tqdm.notebook import tqdm\n",
        "from transformers import get_cosine_schedule_with_warmup\n",
        "\n",
        "torch.__version__"
      ]
    },
    {
      "cell_type": "code",
      "execution_count": 7,
      "id": "492dd366",
      "metadata": {
        "_kg_hide-output": true,
        "execution": {
          "iopub.execute_input": "2023-07-08T19:54:25.657319Z",
          "iopub.status.busy": "2023-07-08T19:54:25.656270Z",
          "iopub.status.idle": "2023-07-08T19:54:44.349389Z",
          "shell.execute_reply": "2023-07-08T19:54:44.348403Z"
        },
        "papermill": {
          "duration": 18.704939,
          "end_time": "2023-07-08T19:54:44.351913",
          "exception": false,
          "start_time": "2023-07-08T19:54:25.646974",
          "status": "completed"
        },
        "tags": [],
        "id": "492dd366"
      },
      "outputs": [],
      "source": [
        "#!pip install segmentation-models-pytorch\n",
        "import segmentation_models_pytorch as smp"
      ]
    },
    {
      "cell_type": "code",
      "execution_count": 8,
      "id": "82217e10",
      "metadata": {
        "execution": {
          "iopub.execute_input": "2023-07-08T19:54:44.374694Z",
          "iopub.status.busy": "2023-07-08T19:54:44.374385Z",
          "iopub.status.idle": "2023-07-08T19:54:44.378376Z",
          "shell.execute_reply": "2023-07-08T19:54:44.377366Z"
        },
        "papermill": {
          "duration": 0.01798,
          "end_time": "2023-07-08T19:54:44.380723",
          "exception": false,
          "start_time": "2023-07-08T19:54:44.362743",
          "status": "completed"
        },
        "tags": [],
        "id": "82217e10"
      },
      "outputs": [],
      "source": [
        "# !pip install -qU wandb\n",
        "# import wandb\n",
        "# wandb.login(key='')\n",
        "#!mv *.csv ../input/contrails-images-ash-color/"
      ]
    },
    {
      "cell_type": "markdown",
      "id": "bca3985d",
      "metadata": {
        "papermill": {
          "duration": 0.020994,
          "end_time": "2023-07-08T19:54:44.412067",
          "exception": false,
          "start_time": "2023-07-08T19:54:44.391073",
          "status": "completed"
        },
        "tags": [],
        "id": "bca3985d"
      },
      "source": [
        "## Data Preparation"
      ]
    },
    {
      "cell_type": "code",
      "execution_count": 9,
      "id": "43ca84e3",
      "metadata": {
        "execution": {
          "iopub.execute_input": "2023-07-08T19:54:44.435931Z",
          "iopub.status.busy": "2023-07-08T19:54:44.435663Z",
          "iopub.status.idle": "2023-07-08T19:54:44.504915Z",
          "shell.execute_reply": "2023-07-08T19:54:44.504115Z"
        },
        "papermill": {
          "duration": 0.082384,
          "end_time": "2023-07-08T19:54:44.506931",
          "exception": false,
          "start_time": "2023-07-08T19:54:44.424547",
          "status": "completed"
        },
        "tags": [],
        "id": "43ca84e3"
      },
      "outputs": [],
      "source": [
        "class Config:\n",
        "    train = True\n",
        "    train_aug=True\n",
        "\n",
        "    num_epochs = 80\n",
        "    num_classes = 1\n",
        "    batch_size = 32\n",
        "    seed = 42\n",
        "\n",
        "    encoder = 'timm-efficientnet-b7'\n",
        "    pretrained =True\n",
        "    weights = 'imagenet'\n",
        "    classes = ['contrail']\n",
        "    activation = None\n",
        "    in_chans = 3\n",
        "\n",
        "    device = torch.device('cuda' if torch.cuda.is_available() else 'cpu')\n",
        "\n",
        "    image_size = 256\n",
        "    warmup = 0\n",
        "    #lr = 3e-3\n",
        "    lr=8e-4\n",
        "\n",
        "class Paths:\n",
        "    data_root = '/kaggle/input/google-research-identify-contrails-reduce-global-warming'\n",
        "    contrails = '../input/contrails-images-ash-color/contrails/'\n",
        "    train_path = '../input/contrails-images-ash-color/train_df.csv'\n",
        "    valid_path = '../input/contrails-images-ash-color/valid_df.csv'"
      ]
    },
    {
      "cell_type": "code",
      "execution_count": 10,
      "id": "ad806707",
      "metadata": {
        "execution": {
          "iopub.execute_input": "2023-07-08T19:54:44.530251Z",
          "iopub.status.busy": "2023-07-08T19:54:44.528859Z",
          "iopub.status.idle": "2023-07-08T19:54:44.535299Z",
          "shell.execute_reply": "2023-07-08T19:54:44.534528Z"
        },
        "papermill": {
          "duration": 0.01951,
          "end_time": "2023-07-08T19:54:44.537226",
          "exception": false,
          "start_time": "2023-07-08T19:54:44.517716",
          "status": "completed"
        },
        "tags": [],
        "id": "ad806707"
      },
      "outputs": [],
      "source": [
        "def set_seed(seed=1234):\n",
        "    random.seed(seed)\n",
        "    np.random.seed(seed)\n",
        "    os.environ[\"PYTHONHASHSEED\"] = str(seed)\n",
        "\n",
        "    torch.manual_seed(seed)\n",
        "    torch.cuda.manual_seed(seed)\n",
        "    torch.backends.cudnn.deterministic = True\n",
        "    torch.backends.cudnn.benchmark = False"
      ]
    },
    {
      "cell_type": "code",
      "execution_count": 11,
      "id": "670310bc",
      "metadata": {
        "execution": {
          "iopub.execute_input": "2023-07-08T19:54:44.560149Z",
          "iopub.status.busy": "2023-07-08T19:54:44.558785Z",
          "iopub.status.idle": "2023-07-08T19:54:44.567302Z",
          "shell.execute_reply": "2023-07-08T19:54:44.566528Z"
        },
        "papermill": {
          "duration": 0.021743,
          "end_time": "2023-07-08T19:54:44.569248",
          "exception": false,
          "start_time": "2023-07-08T19:54:44.547505",
          "status": "completed"
        },
        "tags": [],
        "id": "670310bc"
      },
      "outputs": [],
      "source": [
        "set_seed(9)"
      ]
    },
    {
      "cell_type": "code",
      "execution_count": 12,
      "id": "298f7de1",
      "metadata": {
        "execution": {
          "iopub.execute_input": "2023-07-08T19:54:44.592026Z",
          "iopub.status.busy": "2023-07-08T19:54:44.590659Z",
          "iopub.status.idle": "2023-07-08T19:54:44.657296Z",
          "shell.execute_reply": "2023-07-08T19:54:44.656403Z"
        },
        "papermill": {
          "duration": 0.079796,
          "end_time": "2023-07-08T19:54:44.659363",
          "exception": false,
          "start_time": "2023-07-08T19:54:44.579567",
          "status": "completed"
        },
        "tags": [],
        "colab": {
          "base_uri": "https://localhost:8080/"
        },
        "id": "298f7de1",
        "outputId": "3a792cc7-b52a-458f-bf13-496eb58bce37"
      },
      "outputs": [
        {
          "output_type": "execute_result",
          "data": {
            "text/plain": [
              "((20529, 3), (1856, 3))"
            ]
          },
          "metadata": {},
          "execution_count": 12
        }
      ],
      "source": [
        "# Import dataframes\n",
        "train_df = pd.read_csv(Paths.train_path)\n",
        "valid_df = pd.read_csv(Paths.valid_path)\n",
        "\n",
        "train_df['path'] = Paths.contrails + train_df['record_id'].astype(str) + '.npy'\n",
        "valid_df['path'] = Paths.contrails + valid_df['record_id'].astype(str) + '.npy'\n",
        "\n",
        "train_df.shape, valid_df.shape"
      ]
    },
    {
      "cell_type": "code",
      "execution_count": 13,
      "id": "a132819a",
      "metadata": {
        "execution": {
          "iopub.execute_input": "2023-07-08T19:54:44.681413Z",
          "iopub.status.busy": "2023-07-08T19:54:44.681146Z",
          "iopub.status.idle": "2023-07-08T19:54:44.686958Z",
          "shell.execute_reply": "2023-07-08T19:54:44.686057Z"
        },
        "papermill": {
          "duration": 0.018943,
          "end_time": "2023-07-08T19:54:44.688863",
          "exception": false,
          "start_time": "2023-07-08T19:54:44.669920",
          "status": "completed"
        },
        "tags": [],
        "id": "a132819a"
      },
      "outputs": [],
      "source": [
        "transform_size = A.Compose([\n",
        "    A.Resize(Config.image_size, Config.image_size, interpolation=cv2.INTER_LANCZOS4, always_apply=True)\n",
        "]) #cv2.INTER_LANCZOS4\n",
        "\n",
        "train_transform = A.Compose([\n",
        "    A.OneOf([\n",
        "            A.Sharpen (alpha=(0.2, 0.5), lightness=(0.5, 1.0), always_apply=False, p=0.5),\n",
        "\n",
        "# #             A.OpticalDistortion(distort_limit=0.05, shift_limit=0.05, p=1.0),\n",
        "            A.ColorJitter(brightness=0.15, contrast=0.2),\n",
        "            A.RandomBrightnessContrast (brightness_limit=0.15, contrast_limit=0.2,\n",
        "                                        brightness_by_max=True, always_apply=False, p=0.3),\n",
        "            A.RandomGamma(gamma_limit=(30,150),p=0.2)\n",
        "        ], p=0.0),\n",
        "    A.HorizontalFlip(p=0.5),\n",
        "    A.ShiftScaleRotate(shift_limit=0.0625, scale_limit=0.05, rotate_limit=15, p=0.25),\n",
        "\n",
        "    A.VerticalFlip(p=0.25),\n",
        "    #A.RandomResizedCrop(height=384, width=384, scale=(0.25, 1.0), p=1,interpolation=cv2.INTER_LANCZOS4)\n",
        "     #A.Resize(Config.image_size, Config.image_size, interpolation=cv2.INTER_LANCZOS4, always_apply=True)\n",
        "])"
      ]
    },
    {
      "cell_type": "code",
      "source": [],
      "metadata": {
        "id": "pYEhuwpLRxlI"
      },
      "id": "pYEhuwpLRxlI",
      "execution_count": 13,
      "outputs": []
    },
    {
      "cell_type": "code",
      "execution_count": 14,
      "id": "5df52653",
      "metadata": {
        "execution": {
          "iopub.execute_input": "2023-07-08T19:54:44.711735Z",
          "iopub.status.busy": "2023-07-08T19:54:44.711011Z",
          "iopub.status.idle": "2023-07-08T19:54:44.720138Z",
          "shell.execute_reply": "2023-07-08T19:54:44.719319Z"
        },
        "papermill": {
          "duration": 0.02238,
          "end_time": "2023-07-08T19:54:44.722028",
          "exception": false,
          "start_time": "2023-07-08T19:54:44.699648",
          "status": "completed"
        },
        "tags": [],
        "id": "5df52653"
      },
      "outputs": [],
      "source": [
        "class ContrailsDataset(torch.utils.data.Dataset):\n",
        "    def __init__(self, df, train=True, transform=None):\n",
        "\n",
        "        self.df = df\n",
        "        self.trn = train\n",
        "        self.transform = transform\n",
        "\n",
        "    def __getitem__(self, index):\n",
        "        row = self.df.iloc[index]\n",
        "        con_path = row.path\n",
        "        con = np.load(str(con_path))\n",
        "\n",
        "        img = con[..., :-1]\n",
        "        label = con[..., -1]\n",
        "\n",
        "        img = img.astype(np.float32)\n",
        "        label = label.astype(np.float32)\n",
        "\n",
        "        if Config.train_aug and self.trn:\n",
        "            if self.transform is not None:\n",
        "                augmented = self.transform(image=img, mask=label)\n",
        "                img = augmented['image']\n",
        "                label = augmented['mask']\n",
        "        if not self.trn:\n",
        "          if self.transform is not None:\n",
        "                augmented = self.transform(image=img, mask=label)\n",
        "                img = augmented['image']\n",
        "                label = augmented['mask']\n",
        "\n",
        "        #if Config.image_size != 256:\n",
        "        #    img = transform_size(image=img)[\"image\"]\n",
        "\n",
        "        img = torch.tensor(img)\n",
        "        label = torch.tensor(label)\n",
        "\n",
        "        img = img.permute(2, 0, 1)\n",
        "\n",
        "        return img.float(), label.float()\n",
        "\n",
        "    def __len__(self):\n",
        "        return len(self.df)"
      ]
    },
    {
      "cell_type": "code",
      "execution_count": 15,
      "id": "75492556",
      "metadata": {
        "execution": {
          "iopub.execute_input": "2023-07-08T19:54:44.744484Z",
          "iopub.status.busy": "2023-07-08T19:54:44.743749Z",
          "iopub.status.idle": "2023-07-08T19:54:44.749559Z",
          "shell.execute_reply": "2023-07-08T19:54:44.748749Z"
        },
        "papermill": {
          "duration": 0.018899,
          "end_time": "2023-07-08T19:54:44.751437",
          "exception": false,
          "start_time": "2023-07-08T19:54:44.732538",
          "status": "completed"
        },
        "tags": [],
        "id": "75492556"
      },
      "outputs": [],
      "source": [
        "train_ds = ContrailsDataset(\n",
        "        train_df,\n",
        "        train=True,\n",
        "        transform=train_transform\n",
        "    )\n",
        "\n",
        "valid_ds = ContrailsDataset(\n",
        "        valid_df,\n",
        "        train=False,\n",
        "        transform=None #transform_size\n",
        "    )\n",
        "\n",
        "train_dl = DataLoader(train_ds, batch_size=Config.batch_size , shuffle=True, num_workers = 8)\n",
        "valid_dl = DataLoader(valid_ds, batch_size=Config.batch_size, num_workers = 8)"
      ]
    },
    {
      "cell_type": "code",
      "source": [
        "train_ds[0][0].shape"
      ],
      "metadata": {
        "colab": {
          "base_uri": "https://localhost:8080/"
        },
        "id": "awDxin48Q6ba",
        "outputId": "2fc9774b-7833-4c10-a97d-4e3379473352"
      },
      "id": "awDxin48Q6ba",
      "execution_count": 16,
      "outputs": [
        {
          "output_type": "execute_result",
          "data": {
            "text/plain": [
              "torch.Size([3, 256, 256])"
            ]
          },
          "metadata": {},
          "execution_count": 16
        }
      ]
    },
    {
      "cell_type": "code",
      "execution_count": 17,
      "id": "77f3a771",
      "metadata": {
        "execution": {
          "iopub.execute_input": "2023-07-08T19:54:44.774487Z",
          "iopub.status.busy": "2023-07-08T19:54:44.773142Z",
          "iopub.status.idle": "2023-07-08T19:54:45.808309Z",
          "shell.execute_reply": "2023-07-08T19:54:45.807275Z"
        },
        "papermill": {
          "duration": 1.048808,
          "end_time": "2023-07-08T19:54:45.810749",
          "exception": false,
          "start_time": "2023-07-08T19:54:44.761941",
          "status": "completed"
        },
        "tags": [],
        "colab": {
          "base_uri": "https://localhost:8080/"
        },
        "id": "77f3a771",
        "outputId": "799cfdfd-0f26-40b7-f8ef-1ee4d7f29e4e"
      },
      "outputs": [
        {
          "output_type": "execute_result",
          "data": {
            "text/plain": [
              "(torch.Size([32, 3, 256, 256]), torch.Size([32, 256, 256]))"
            ]
          },
          "metadata": {},
          "execution_count": 17
        }
      ],
      "source": [
        "img, label = next(iter(train_dl))\n",
        "img.shape, label.shape"
      ]
    },
    {
      "cell_type": "code",
      "execution_count": 18,
      "id": "33e1e5e8",
      "metadata": {
        "execution": {
          "iopub.execute_input": "2023-07-08T19:54:45.834693Z",
          "iopub.status.busy": "2023-07-08T19:54:45.833935Z",
          "iopub.status.idle": "2023-07-08T19:54:47.096566Z",
          "shell.execute_reply": "2023-07-08T19:54:47.095511Z"
        },
        "papermill": {
          "duration": 1.276685,
          "end_time": "2023-07-08T19:54:47.098709",
          "exception": false,
          "start_time": "2023-07-08T19:54:45.822024",
          "status": "completed"
        },
        "tags": [],
        "colab": {
          "base_uri": "https://localhost:8080/"
        },
        "id": "33e1e5e8",
        "outputId": "65654cc4-394c-4572-9c92-d0496b8ebe86"
      },
      "outputs": [
        {
          "output_type": "execute_result",
          "data": {
            "text/plain": [
              "(torch.Size([32, 3, 256, 256]), torch.Size([32, 256, 256]))"
            ]
          },
          "metadata": {},
          "execution_count": 18
        }
      ],
      "source": [
        "img, label = next(iter(valid_dl))\n",
        "img.shape, label.shape"
      ]
    },
    {
      "cell_type": "code",
      "execution_count": 19,
      "id": "4030e668",
      "metadata": {
        "execution": {
          "iopub.execute_input": "2023-07-08T19:54:47.140421Z",
          "iopub.status.busy": "2023-07-08T19:54:47.139516Z",
          "iopub.status.idle": "2023-07-08T19:54:47.157987Z",
          "shell.execute_reply": "2023-07-08T19:54:47.148565Z"
        },
        "papermill": {
          "duration": 0.046213,
          "end_time": "2023-07-08T19:54:47.160371",
          "exception": false,
          "start_time": "2023-07-08T19:54:47.114158",
          "status": "completed"
        },
        "tags": [],
        "id": "4030e668"
      },
      "outputs": [],
      "source": [
        "def display_random_images(dataset, n=10, seed=None):\n",
        "    if seed:\n",
        "        random.seed(seed)\n",
        "    random_samples_idx = random.sample(range(len(dataset)), k=n)\n",
        "    plt.figure(figsize=(30, 20))\n",
        "\n",
        "    for i, targ_sample in enumerate(random_samples_idx):\n",
        "        targ_image, targ_label = dataset[targ_sample][0], dataset[targ_sample][1]\n",
        "        print(targ_image.shape)\n",
        "\n",
        "        targ_image = targ_image.permute(1, 2, 0)\n",
        "\n",
        "        plt.subplot(1, n, i+1)\n",
        "        plt.imshow(targ_image)\n",
        "        plt.axis(False)"
      ]
    },
    {
      "cell_type": "code",
      "execution_count": 20,
      "id": "6de12e3c",
      "metadata": {
        "execution": {
          "iopub.execute_input": "2023-07-08T19:54:47.192451Z",
          "iopub.status.busy": "2023-07-08T19:54:47.191867Z",
          "iopub.status.idle": "2023-07-08T19:54:48.358974Z",
          "shell.execute_reply": "2023-07-08T19:54:48.357241Z"
        },
        "papermill": {
          "duration": 1.197069,
          "end_time": "2023-07-08T19:54:48.372949",
          "exception": false,
          "start_time": "2023-07-08T19:54:47.175880",
          "status": "completed"
        },
        "tags": [],
        "id": "6de12e3c"
      },
      "outputs": [],
      "source": [
        "#display_random_images(train_ds, 2, 42)"
      ]
    },
    {
      "cell_type": "code",
      "execution_count": 21,
      "id": "d9ac27a4",
      "metadata": {
        "execution": {
          "iopub.execute_input": "2023-07-08T19:54:48.432819Z",
          "iopub.status.busy": "2023-07-08T19:54:48.432480Z",
          "iopub.status.idle": "2023-07-08T19:54:49.707015Z",
          "shell.execute_reply": "2023-07-08T19:54:49.699527Z"
        },
        "papermill": {
          "duration": 1.314802,
          "end_time": "2023-07-08T19:54:49.717321",
          "exception": false,
          "start_time": "2023-07-08T19:54:48.402519",
          "status": "completed"
        },
        "tags": [],
        "id": "d9ac27a4"
      },
      "outputs": [],
      "source": [
        "#display_random_images(valid_ds, 4, 42)"
      ]
    },
    {
      "cell_type": "markdown",
      "id": "0dcab757",
      "metadata": {
        "papermill": {
          "duration": 0.049281,
          "end_time": "2023-07-08T19:54:49.818824",
          "exception": false,
          "start_time": "2023-07-08T19:54:49.769543",
          "status": "completed"
        },
        "tags": [],
        "id": "0dcab757"
      },
      "source": [
        "## Training"
      ]
    },
    {
      "cell_type": "code",
      "execution_count": 22,
      "id": "4df747f8",
      "metadata": {
        "execution": {
          "iopub.execute_input": "2023-07-08T19:54:49.923960Z",
          "iopub.status.busy": "2023-07-08T19:54:49.923606Z",
          "iopub.status.idle": "2023-07-08T19:54:49.929313Z",
          "shell.execute_reply": "2023-07-08T19:54:49.928399Z"
        },
        "papermill": {
          "duration": 0.064344,
          "end_time": "2023-07-08T19:54:49.931399",
          "exception": false,
          "start_time": "2023-07-08T19:54:49.867055",
          "status": "completed"
        },
        "tags": [],
        "id": "4df747f8"
      },
      "outputs": [],
      "source": [
        "def dice_coef(y_true, y_pred, thr=0.5, epsilon=0.001):\n",
        "    y_true = y_true.flatten()\n",
        "    y_pred = (y_pred>thr).astype(np.float32).flatten()\n",
        "    inter = (y_true*y_pred).sum()\n",
        "    den = y_true.sum() + y_pred.sum()\n",
        "    dice = ((2*inter+epsilon)/(den+epsilon))\n",
        "    return dice\n",
        "\n",
        "def dice_avg(y_p, y_t,smooth=1e-3):\n",
        "    i = torch.sum(y_p * y_t, dim=(2, 3))\n",
        "    u = torch.sum(y_p, dim=(2, 3)) + torch.sum(y_t, dim=(2, 3))\n",
        "    score = (2 * i + smooth)/(u + smooth)\n",
        "    return torch.mean(score)\n",
        "def dice_loss(input, target):\n",
        "    input = torch.sigmoid(input)\n",
        "    smooth = 1.0\n",
        "    iflat = input.view(-1)\n",
        "    tflat = target.view(-1)\n",
        "    intersection = (iflat * tflat).sum()\n",
        "    return ((2.0 * intersection + smooth) / (iflat.sum() + tflat.sum() + smooth))\n",
        "\n",
        "def dice_loss_avg(y_p,y_t):\n",
        "    return -torch.log(dice_loss(y_p,y_t))\n",
        "def iou_loss(input, target,epsilon=1e-5):\n",
        "    input = torch.sigmoid(input)\n",
        "    smooth = 1.0\n",
        "    union = (target + input - target*input).sum()\n",
        "    inter = (target*input).sum()\n",
        "    iou = ((inter+epsilon)/(union+epsilon)) #.mean(0)\n",
        "    return iou\n",
        "\n",
        "def iou_loss_avg(y_p,y_t):\n",
        "    return -torch.log(iou_loss(y_p,y_t))"
      ]
    },
    {
      "cell_type": "code",
      "execution_count": 23,
      "id": "cab27988",
      "metadata": {
        "execution": {
          "iopub.execute_input": "2023-07-08T19:54:50.053993Z",
          "iopub.status.busy": "2023-07-08T19:54:50.053362Z",
          "iopub.status.idle": "2023-07-08T19:54:50.067134Z",
          "shell.execute_reply": "2023-07-08T19:54:50.066104Z"
        },
        "papermill": {
          "duration": 0.09346,
          "end_time": "2023-07-08T19:54:50.072024",
          "exception": false,
          "start_time": "2023-07-08T19:54:49.978564",
          "status": "completed"
        },
        "tags": [],
        "id": "cab27988"
      },
      "outputs": [],
      "source": [
        "class FocalLoss(nn.Module):\n",
        "    def __init__(self, gamma=2):\n",
        "        super().__init__()\n",
        "        self.gamma = gamma\n",
        "    def forward(self, logit, target):\n",
        "        target = target.float()\n",
        "        max_val = (-logit).clamp(min=0)\n",
        "        loss = logit - logit * target + max_val + \\\n",
        "               ((-max_val).exp() + (-logit - max_val).exp()).log()\n",
        "        invprobs = F.logsigmoid(-logit * (target * 2.0 - 1.0))\n",
        "        loss = (invprobs * self.gamma).exp() * loss\n",
        "        if len(loss.size())==2:\n",
        "            loss = loss.sum(dim=1)\n",
        "        return loss.mean()\n",
        "def dice_global(y_p,y_t,smooth=1e-3):\n",
        "\n",
        "    intersection = torch.sum(y_p * y_t)\n",
        "    union = torch.sum(y_p) + torch.sum(y_t)\n",
        "\n",
        "    dice = (2.0 * intersection + smooth) / (union + smooth)\n",
        "\n",
        "    return dice\n",
        "\n",
        "def dice_loss_global(y_p,y_t):\n",
        "    return 1-dice_global(y_p,y_t)\n",
        "\n",
        "\n",
        "class UNet(nn.Module):\n",
        "    def __init__(self, cfg):\n",
        "        super(UNet, self).__init__()\n",
        "\n",
        "        self.cfg = cfg\n",
        "        self.training = True\n",
        "\n",
        "        self.model = smp.Unet(\n",
        "            encoder_name=cfg.encoder,\n",
        "            encoder_weights=cfg.weights,\n",
        "            decoder_use_batchnorm=True,\n",
        "            classes=len(cfg.classes),\n",
        "            activation=cfg.activation,\n",
        "        )\n",
        "\n",
        "        self.loss_fn1 = smp.losses.SoftBCEWithLogitsLoss( )\n",
        "        self.loss_fn2= smp.losses.DiceLoss(mode='binary') #returns mean ice_loss_avg#\n",
        "        self.loss_fn3=smp.losses.JaccardLoss(mode='binary') #iou_loss_avg#\n",
        "        self.lossfn4= FocalLoss( )\n",
        "\n",
        "    def forward(self, imgs, targets):\n",
        "\n",
        "        x = imgs\n",
        "        y = targets\n",
        "\n",
        "        logits = self.model(x)\n",
        "        #print(logits.size())\n",
        "\n",
        "        #if Config.image_size != 256:\n",
        "        #    logits = F.interpolate(logits, size=(256, 256), mode='nearest-exact')+self.loss_fn3(logits, y)*0.1\n",
        "\n",
        "        loss = self.loss_fn1(logits.squeeze(1), y )*0.5+0.5*(self.loss_fn2(logits, y)#*0.5\n",
        "                                                #+self.loss_fn3(logits,y)*0.2\n",
        "                                                             )\n",
        "\n",
        "        return {\"loss\": loss, \"logits\": logits.sigmoid(), \"logits_raw\": logits, \"target\": y}"
      ]
    },
    {
      "cell_type": "code",
      "source": [
        "class AverageMeter(object):\n",
        "    \"\"\"Computes and stores the average and current value\"\"\"\n",
        "\n",
        "    def __init__(self):\n",
        "        self.reset()\n",
        "\n",
        "    def reset(self):\n",
        "        self.val = 0\n",
        "        self.avg = 0\n",
        "        self.sum = 0\n",
        "        self.count = 0\n",
        "\n",
        "    def update(self, val, n=1):\n",
        "        self.val = val\n",
        "        self.sum += val * n\n",
        "        self.count += n\n",
        "        self.avg = self.sum / self.count\n"
      ],
      "metadata": {
        "id": "NfHlC3LXgDXL"
      },
      "id": "NfHlC3LXgDXL",
      "execution_count": 24,
      "outputs": []
    },
    {
      "cell_type": "code",
      "execution_count": 25,
      "id": "ccabecb9",
      "metadata": {
        "execution": {
          "iopub.execute_input": "2023-07-08T19:54:50.182221Z",
          "iopub.status.busy": "2023-07-08T19:54:50.181879Z",
          "iopub.status.idle": "2023-07-08T19:54:50.189165Z",
          "shell.execute_reply": "2023-07-08T19:54:50.188180Z"
        },
        "papermill": {
          "duration": 0.061076,
          "end_time": "2023-07-08T19:54:50.191098",
          "exception": false,
          "start_time": "2023-07-08T19:54:50.130022",
          "status": "completed"
        },
        "tags": [],
        "id": "ccabecb9"
      },
      "outputs": [],
      "source": [
        "scaler = torch.cuda.amp.GradScaler()\n",
        "def train_step(model, dataloader, optimizer, device):\n",
        "\n",
        "    model.train()\n",
        "\n",
        "    train_losses = []\n",
        "    pbar = tqdm(enumerate(dataloader), total=len(dataloader), desc='Train ')\n",
        "    losses = AverageMeter()\n",
        "\n",
        "    for step, (X, y) in pbar:\n",
        "\n",
        "        X, y = X.to(device), y.to(device)\n",
        "        torch.set_grad_enabled(True)\n",
        "        bs=X[0].shape[0]\n",
        "        with torch.cuda.amp.autocast():\n",
        "\n",
        "\t          # Forward Pass\n",
        "            #outputs = model(inputs)\n",
        "            # Compute Loss and Perform Back-propagation\n",
        "\t          # loss = loss_fn(outputs, labels)\n",
        "\n",
        "\n",
        "          output_dict = model(X, y)\n",
        "        loss = output_dict[\"loss\"]\n",
        "        scaler.scale(loss).backward()\n",
        "\n",
        "        # Uncales gradients and calls\n",
        "        # or skips optimizer.step()\n",
        "        scaler.step(optimizer)\n",
        "\n",
        "        # Updates the scale for next iteration\n",
        "        scaler.update()\n",
        "        losses.update(loss.item(), bs)\n",
        "        #loss = output_dict[\"loss\"]\n",
        "        train_losses.append(loss.item())\n",
        "        pbar.set_description(f\"Train - Loss:{losses.avg:0.4f} \")\n",
        "\n",
        "        #loss.backward()\n",
        "        #optimizer.step()\n",
        "        optimizer.zero_grad()\n",
        "\n",
        "        if scheduler is not None:\n",
        "            scheduler.step()\n",
        "\n",
        "    train_loss = np.sum(train_losses)\n",
        "\n",
        "    return train_loss"
      ]
    },
    {
      "cell_type": "code",
      "execution_count": 26,
      "id": "7711c7fd",
      "metadata": {
        "execution": {
          "iopub.execute_input": "2023-07-08T19:54:50.289180Z",
          "iopub.status.busy": "2023-07-08T19:54:50.288385Z",
          "iopub.status.idle": "2023-07-08T19:54:50.298399Z",
          "shell.execute_reply": "2023-07-08T19:54:50.297541Z"
        },
        "papermill": {
          "duration": 0.062465,
          "end_time": "2023-07-08T19:54:50.300459",
          "exception": false,
          "start_time": "2023-07-08T19:54:50.237994",
          "status": "completed"
        },
        "tags": [],
        "id": "7711c7fd"
      },
      "outputs": [],
      "source": [
        "def test_step(model, dataloader, device):\n",
        "\n",
        "    model.eval()\n",
        "    torch.set_grad_enabled(False)\n",
        "\n",
        "    val_data = defaultdict(list)\n",
        "    pbar = tqdm(enumerate(dataloader), total=len(dataloader), desc='Valid')\n",
        "    losses=AverageMeter()\n",
        "    for step, (X, y) in pbar:\n",
        "\n",
        "        X, y = X.to(device), y.to(device)\n",
        "        bs=X[0].shape[0]\n",
        "        output = model(X, y)\n",
        "        loss = output[\"loss\"]\n",
        "        for key, val in output.items():\n",
        "            val_data[key] += [output[key]]\n",
        "        losses.update(loss.item(), bs)\n",
        "        pbar.set_description(f\"Val Loss:{losses.avg:0.4f} \")\n",
        "    for key, val in output.items():\n",
        "        value = val_data[key]\n",
        "        if len(value[0].shape) == 0:\n",
        "            val_data[key] = torch.stack(value)\n",
        "        else:\n",
        "            val_data[key] = torch.cat(value, dim=0).cpu().detach().numpy()\n",
        "\n",
        "    val_losses = val_data[\"loss\"].cpu().numpy()\n",
        "    val_loss = np.sum(val_losses)\n",
        "\n",
        "    val_dice = dice_coef(val_data['target'], val_data['logits'])\n",
        "\n",
        "    return val_loss, val_dice"
      ]
    },
    {
      "cell_type": "code",
      "execution_count": 27,
      "id": "6ecb111d",
      "metadata": {
        "execution": {
          "iopub.execute_input": "2023-07-08T19:54:50.398235Z",
          "iopub.status.busy": "2023-07-08T19:54:50.397618Z",
          "iopub.status.idle": "2023-07-08T19:54:50.403380Z",
          "shell.execute_reply": "2023-07-08T19:54:50.402537Z"
        },
        "papermill": {
          "duration": 0.058164,
          "end_time": "2023-07-08T19:54:50.405366",
          "exception": false,
          "start_time": "2023-07-08T19:54:50.347202",
          "status": "completed"
        },
        "tags": [],
        "id": "6ecb111d"
      },
      "outputs": [],
      "source": [
        "from tqdm.auto import tqdm"
      ]
    },
    {
      "cell_type": "code",
      "execution_count": 28,
      "id": "22457bf0",
      "metadata": {
        "execution": {
          "iopub.execute_input": "2023-07-08T19:54:50.503997Z",
          "iopub.status.busy": "2023-07-08T19:54:50.503390Z",
          "iopub.status.idle": "2023-07-08T19:54:50.511567Z",
          "shell.execute_reply": "2023-07-08T19:54:50.510550Z"
        },
        "papermill": {
          "duration": 0.061627,
          "end_time": "2023-07-08T19:54:50.513691",
          "exception": false,
          "start_time": "2023-07-08T19:54:50.452064",
          "status": "completed"
        },
        "tags": [],
        "id": "22457bf0"
      },
      "outputs": [],
      "source": [
        "def train(model, train_dataloader, test_dataloader, optimizer, epochs, device):\n",
        "    results = {'train_loss': [],\n",
        "              'val_loss': [],\n",
        "              'val_dice': []}\n",
        "    best_dice=-1\n",
        "\n",
        "    for epoch in range(epochs):\n",
        "\n",
        "        set_seed(Config.seed + epoch)\n",
        "        print(\"EPOCH:\", epoch)\n",
        "\n",
        "        train_loss = train_step(model,\n",
        "                              train_dataloader,\n",
        "                              optimizer,\n",
        "                              device)\n",
        "        val_loss, val_dice = test_step(model,\n",
        "                            test_dataloader,\n",
        "                            device)\n",
        "\n",
        "        train_loss = train_loss / len(train_ds)\n",
        "        val_loss = val_loss / len(valid_ds)\n",
        "\n",
        "        print(f'Train Loss: {train_loss:.4f} | Val Loss: {val_loss:.4f} | Val Dice: {val_dice:.4f}')\n",
        "        print(f\"Learning rate: {optimizer.param_groups[0]['lr']}\")\n",
        "\n",
        "        results['train_loss'].append(train_loss)\n",
        "        results['val_loss'].append(val_loss)\n",
        "        results['val_dice'].append(val_dice)\n",
        "\n",
        "#         wandb.log({\n",
        "#         \"Train Loss\": train_loss,\n",
        "#         \"Valid Loss\": val_loss,\n",
        "#         'Valid Dice': val_dice})\n",
        "        if best_dice<val_dice:\n",
        "          best_dice=val_dice\n",
        "          print('saving best dice',val_dice)\n",
        "\n",
        "          PATH = f\"epoch-{epoch}_best.pth\"\n",
        "          torch.save(model.state_dict(), PATH)\n",
        "\n",
        "#         wandb.save(PATH)\n",
        "\n",
        "    return results"
      ]
    },
    {
      "cell_type": "code",
      "execution_count": 29,
      "id": "a18c649f",
      "metadata": {
        "execution": {
          "iopub.execute_input": "2023-07-08T19:54:50.610448Z",
          "iopub.status.busy": "2023-07-08T19:54:50.610046Z",
          "iopub.status.idle": "2023-07-08T19:54:50.615097Z",
          "shell.execute_reply": "2023-07-08T19:54:50.614093Z"
        },
        "papermill": {
          "duration": 0.056471,
          "end_time": "2023-07-08T19:54:50.617147",
          "exception": false,
          "start_time": "2023-07-08T19:54:50.560676",
          "status": "completed"
        },
        "tags": [],
        "id": "a18c649f"
      },
      "outputs": [],
      "source": [
        "def get_optimizer(lr, params):\n",
        "\n",
        "    model_optimizer = torch.optim.Adam(\n",
        "            filter(lambda p: p.requires_grad, params),\n",
        "            lr=lr,\n",
        "            weight_decay=3e-5)\n",
        "\n",
        "    return model_optimizer"
      ]
    },
    {
      "cell_type": "code",
      "execution_count": 30,
      "id": "e0d7220d",
      "metadata": {
        "execution": {
          "iopub.execute_input": "2023-07-08T19:54:50.713323Z",
          "iopub.status.busy": "2023-07-08T19:54:50.712872Z",
          "iopub.status.idle": "2023-07-08T19:54:50.718125Z",
          "shell.execute_reply": "2023-07-08T19:54:50.717249Z"
        },
        "papermill": {
          "duration": 0.055909,
          "end_time": "2023-07-08T19:54:50.720052",
          "exception": false,
          "start_time": "2023-07-08T19:54:50.664143",
          "status": "completed"
        },
        "tags": [],
        "id": "e0d7220d"
      },
      "outputs": [],
      "source": [
        "def get_scheduler(cfg, optimizer, total_steps,annealing=True):\n",
        "  if not annealing:\n",
        "\n",
        "    scheduler = get_cosine_schedule_with_warmup(\n",
        "        optimizer,\n",
        "        num_warmup_steps= cfg.warmup * (total_steps // cfg.batch_size),\n",
        "        num_training_steps= cfg.num_epochs * (total_steps // cfg.batch_size)\n",
        "    )\n",
        "  else:\n",
        "      scheduler=torch.optim.lr_scheduler.CosineAnnealingLR(optimizer, 8e-4,\n",
        "                                                           eta_min=7e-5, last_epoch=- 1, verbose=False)\n",
        "  return scheduler"
      ]
    },
    {
      "cell_type": "code",
      "source": [
        "state['model'].keys()\n",
        "('module.model.encoder._conv_stem.weight' ).replace('._','.')"
      ],
      "metadata": {
        "colab": {
          "base_uri": "https://localhost:8080/",
          "height": 183
        },
        "id": "jcoHpF39DlwF",
        "outputId": "9ebec585-5ee6-45b6-f8fd-b31666893b0c"
      },
      "id": "jcoHpF39DlwF",
      "execution_count": 31,
      "outputs": [
        {
          "output_type": "error",
          "ename": "NameError",
          "evalue": "ignored",
          "traceback": [
            "\u001b[0;31m---------------------------------------------------------------------------\u001b[0m",
            "\u001b[0;31mNameError\u001b[0m                                 Traceback (most recent call last)",
            "\u001b[0;32m<ipython-input-31-9ad8e05d2a74>\u001b[0m in \u001b[0;36m<cell line: 1>\u001b[0;34m()\u001b[0m\n\u001b[0;32m----> 1\u001b[0;31m \u001b[0mstate\u001b[0m\u001b[0;34m[\u001b[0m\u001b[0;34m'model'\u001b[0m\u001b[0;34m]\u001b[0m\u001b[0;34m.\u001b[0m\u001b[0mkeys\u001b[0m\u001b[0;34m(\u001b[0m\u001b[0;34m)\u001b[0m\u001b[0;34m\u001b[0m\u001b[0;34m\u001b[0m\u001b[0m\n\u001b[0m\u001b[1;32m      2\u001b[0m \u001b[0;34m(\u001b[0m\u001b[0;34m'module.model.encoder._conv_stem.weight'\u001b[0m \u001b[0;34m)\u001b[0m\u001b[0;34m.\u001b[0m\u001b[0mreplace\u001b[0m\u001b[0;34m(\u001b[0m\u001b[0;34m'._'\u001b[0m\u001b[0;34m,\u001b[0m\u001b[0;34m'.'\u001b[0m\u001b[0;34m)\u001b[0m\u001b[0;34m\u001b[0m\u001b[0;34m\u001b[0m\u001b[0m\n",
            "\u001b[0;31mNameError\u001b[0m: name 'state' is not defined"
          ]
        }
      ]
    },
    {
      "cell_type": "code",
      "source": [
        "#model.state_dict().keys()\n",
        "\n",
        "from collections import OrderedDict\n",
        "model = UNet(Config).to(Config.device)\n",
        "'''\n",
        "state=torch.load('/content/drive/MyDrive/vision_Exp/checkpoint_dice_ctrl_fold0.pth')\n",
        "#torch.load('/content/drive/MyDrive/vision_Exp/epoch-29_best.pth')\n",
        "state=( (k,v) for k,v in zip(model.state_dict().keys(),state['model'].values()) )\n",
        "#state={k.replace('._','.'):v for k,v in state['model'].items()}\n",
        "state=OrderedDict(state)\n",
        "state.keys()\n",
        "'''"
      ],
      "metadata": {
        "colab": {
          "base_uri": "https://localhost:8080/",
          "height": 105
        },
        "id": "gaKjvSSUDCLX",
        "outputId": "e2bff20f-cadb-41c8-b67a-269ed9aa50be"
      },
      "id": "gaKjvSSUDCLX",
      "execution_count": 32,
      "outputs": [
        {
          "output_type": "execute_result",
          "data": {
            "text/plain": [
              "\"\\nstate=torch.load('/content/drive/MyDrive/vision_Exp/checkpoint_dice_ctrl_fold0.pth')\\n#torch.load('/content/drive/MyDrive/vision_Exp/epoch-29_best.pth')\\nstate=( (k,v) for k,v in zip(model.state_dict().keys(),state['model'].values()) )\\n#state={k.replace('._','.'):v for k,v in state['model'].items()}\\nstate=OrderedDict(state)\\nstate.keys()\\n\""
            ],
            "application/vnd.google.colaboratory.intrinsic+json": {
              "type": "string"
            }
          },
          "metadata": {},
          "execution_count": 32
        }
      ]
    },
    {
      "cell_type": "code",
      "source": [
        "NUM_EPOCHS = Config.num_epochs\n",
        "model=nn.DataParallel(model ).cuda()\n",
        "\n",
        "#state=torch.load('/content/drive/MyDrive/vision_Exp/checkpoint_dice_ctrl_fold0.pth')\n",
        "state=torch.load('/content/drive/MyDrive/vision_Exp/epoch-73_best.pth')\n",
        "#state=( (k,v) for k,v in zip(model.state_dict().keys(),state['model'].values()) )\n",
        "#state={k.replace('._','.'):v for k,v in state['model'].items()}\n",
        "#state=OrderedDict(state)\n",
        "model.load_state_dict(state  )\n",
        "print('x')\n",
        "# run = wandb.init(project='Google Contrails',\n",
        "#                      config={k:v for k, v in dict(vars(Config)).items() if '__' not in k},\n",
        "#                      name=f\"{Config.encoder}-{Config.num_epochs}epos-{Config.lr}-unet\"\n",
        "#                     )\n",
        "#i=torch.randn(2,3,384,384).to(Config.device)\n",
        "\n",
        "#model(i,i[:,0,:,:].unsqueeze(1))['logits'].shape"
      ],
      "metadata": {
        "colab": {
          "base_uri": "https://localhost:8080/"
        },
        "id": "Jxy4CGY5_cRT",
        "outputId": "62a7bc8e-b950-4b8a-cd60-5845bf537f64"
      },
      "id": "Jxy4CGY5_cRT",
      "execution_count": 34,
      "outputs": [
        {
          "output_type": "stream",
          "name": "stdout",
          "text": [
            "x\n"
          ]
        }
      ]
    },
    {
      "cell_type": "code",
      "source": [
        "val_loss, val_dice = test_step(model,\n",
        "                            valid_dl,\n",
        "                            Config.device)\n",
        "val_loss, val_dice"
      ],
      "metadata": {
        "colab": {
          "base_uri": "https://localhost:8080/",
          "height": 66,
          "referenced_widgets": [
            "6672c4ba1f124501a0dd84cf0433d819",
            "eb6a783978a94d3083159da649035f40",
            "0085eba9d27547bcb31cbe818661cf3c",
            "e832e67bd6804de498be977938935225",
            "74d33a640bd84332bf894a860c7df340",
            "00681299f5294ce5a3adbf00ab7797fd",
            "a45895847d9e4645b3e5cfed3c20ef1d",
            "e8691321d7c14462b3139884741c5d87",
            "bdaea5213090458b83098b747216b580",
            "369d75ae1bef4e1fbf0f48951fb27016",
            "9dc7d469db62433981dc9a5f4c329a36"
          ]
        },
        "id": "d5nVBgCjLgPi",
        "outputId": "f043f79e-ce96-4342-9aa3-0143308b54b8"
      },
      "id": "d5nVBgCjLgPi",
      "execution_count": 52,
      "outputs": [
        {
          "output_type": "display_data",
          "data": {
            "text/plain": [
              "Valid:   0%|          | 0/78 [00:00<?, ?it/s]"
            ],
            "application/vnd.jupyter.widget-view+json": {
              "version_major": 2,
              "version_minor": 0,
              "model_id": "6672c4ba1f124501a0dd84cf0433d819"
            }
          },
          "metadata": {}
        },
        {
          "output_type": "execute_result",
          "data": {
            "text/plain": [
              "(34.61483, 0.15687073161309625)"
            ]
          },
          "metadata": {},
          "execution_count": 52
        }
      ]
    },
    {
      "cell_type": "code",
      "source": [
        "torch.cuda.empty_cache()\n",
        "val_dice"
      ],
      "metadata": {
        "colab": {
          "base_uri": "https://localhost:8080/"
        },
        "id": "0oU46tEZFI3-",
        "outputId": "99dabfe3-2d02-46b6-f771-11c1379f6013"
      },
      "id": "0oU46tEZFI3-",
      "execution_count": 221,
      "outputs": [
        {
          "output_type": "execute_result",
          "data": {
            "text/plain": [
              "0.6208948367943696"
            ]
          },
          "metadata": {},
          "execution_count": 221
        }
      ]
    },
    {
      "cell_type": "code",
      "source": [
        "total_steps = len(train_ds)\n",
        "optimizer = get_optimizer(lr=Config.lr, params=model.parameters())\n",
        "scheduler = get_scheduler(Config, optimizer, total_steps)\n",
        "\n",
        "# wandb.watch(model, log_freq=100, log='all') 663\n",
        "\n",
        "from timeit import default_timer as timer\n",
        "start_time = timer()\n",
        "\n",
        "model_results = train(model, train_dl, valid_dl, optimizer, NUM_EPOCHS, Config.device)\n",
        "\n",
        "end_time = timer()\n",
        "\n",
        "# run.finish() 663\n",
        "print(f'Total Training Time: {end_time-start_time:.3f} seconds')"
      ],
      "metadata": {
        "colab": {
          "base_uri": "https://localhost:8080/",
          "height": 983,
          "referenced_widgets": [
            "86127fd0a27342809bb892b9ff4bd9e2",
            "d4bde008837e4b58a4dd8c4d06692c00",
            "03e7b650bfa9434ca397d59205adc903",
            "f974d26fb23b4b21a06b57d43f99d7bc",
            "95c32545c14c4e28867d3e92f783401a",
            "406baea2c1dd483ba0cde2f15a977444",
            "beacb0864d194a759ba4df61e74ed53f",
            "1f7e17f0de73499cb0c181e4df70c579",
            "da42394cc33841e980bd3fde7707c792",
            "e0b2f9adcff74fb0969444df6e72e9cf",
            "60ce8e911efe46cab1b48cf8c31a77ce",
            "2fc9efb144db46efbfbd891e9afeabfc",
            "94eb64b417a145969f2f7677c3f18ef4",
            "7a7eb9c40ae24b1cab9373e5869b07d6",
            "3070975211bd420fb8a71a970e13ccca",
            "7946c6490d4d4d82862095497a29406b",
            "f829c02b9c9d41a4a7ce41a90442c685",
            "9d590d0fed544285b6a4197f8cc904ef",
            "d81d3a55d7024e12a018ed6da25805d6",
            "b7b97554f2b4450f8fc4d4ea3ec4fd51",
            "5baeb2e1b7214a82be6453524bd151d8",
            "86c724ca883f4009b89b899ebce9f3e1",
            "07ed34b34b014854bf03be613b5ef14d",
            "577194ade66941a7ae1d8b028e74eb20",
            "088a4e6d2421449fa916c009dce18796",
            "f5d01e375d66433ebceb10291ef2a011",
            "976515eaf1bd47eb9638d211fc2ba29f",
            "27bbd119784b45b58513a2803f2ee21c",
            "adcfc0fe9c9341d08301f46305eefe58",
            "f96823a42f834e9ea16bfe2c0530e410",
            "361786a30c724c39a6e2e733b53a79c4",
            "536556be3693466a80822b64f0317632",
            "c4fe14def37e48209863ce235cbdd2da",
            "62ad3999215d4f8c828abeee412ebe51",
            "2d12d89b29534796aba09804a89747ad",
            "adf1e1b0bb5d401c8e5e99738564734e",
            "6f886eeceded46efbb5c6b20d2047e9a",
            "4665d9002b824dd6b2fc396156de61d1",
            "9a3807c00a5e4c9f93dc530eecc8c07f",
            "f483695bd36e42148e29c54ad44e225a",
            "b1a616dc97e34b8cba1634891a96fa0c",
            "c294c7e777c349f4a3dec81423f0298c",
            "1756fee6c83f415cb25db2d5b3f74220",
            "df8e1ce942434dcd973e3175ca4d1e72",
            "acfe0febe9aa4ccaba89f49d4c877caa",
            "fbd1e7be0697484ea3fb12cbf64b5ed1",
            "2ae1b13cf3394b7b9dddaad57480257c",
            "eac8ea976c144a11bb86a26f72bc3a04",
            "ff55289d662249fbbf854dd57b5e88fc",
            "4d5e4fb0d1a04a13b5931f652f746deb",
            "af05f8675f4d4b5a8794e8610af0acc7",
            "d9ef508acca741b4bf0902fc85c8ef90",
            "09785f16131e42b8a79343f6bb501ef8",
            "d08e39ba8b9442e199e553cc026fe587",
            "e64856ec3c6c42fc8211df3815aa6d58",
            "1b5bb8874c4846bfbfc09c2031f0c368",
            "30886e5aa0634d58840c9a4b81a43c9c",
            "997371bbb9ea441cae4783853b5b61b3",
            "adf7177a829a44c2b83eba8b0a5e6227",
            "da0df02e622842cab2fd190eea8414b7",
            "5c06eefac7ea4a109d71bbf87c27df72",
            "e2e2ce4b4b654a1da7d2f17db5ffc443",
            "6fa10d206c0c48a8b4cbd603c72c3fc9",
            "7c979fbf7caa4a418f2624150dd9e1d5",
            "54935b59a6274a72a964c4ec5f46fd3a",
            "e57f27521a6b42d9b98801b5c2f2cfd8",
            "aca65208577c4aebbc03837d6a9ade57",
            "cefef9640dc64e929cd5ec1d033042c1",
            "fab6fb64760c48fbbcd0afe94d3a0b23",
            "ccd3df2ed7a3417d87bd048e210c7130",
            "fb9ca837af6d4f8d92a4a660f2efbdd9",
            "73806fd048c54c79aa5a4dff238d7209",
            "111c4c37506e4224ae798fe7c9d61cc3",
            "24dad1685d494c5496d3eab30ca1e3a9",
            "6173f97a670f4409998b7d96f7af4f17",
            "75926ef2c04948209357a3ab0c849316",
            "08043106382341d7a622c4d831e47e8f"
          ]
        },
        "id": "ebJ05PYNEtLC",
        "outputId": "361751af-c134-4bee-ff74-f02cb8ecef2d"
      },
      "id": "ebJ05PYNEtLC",
      "execution_count": 35,
      "outputs": [
        {
          "output_type": "stream",
          "name": "stdout",
          "text": [
            "EPOCH: 0\n"
          ]
        },
        {
          "output_type": "display_data",
          "data": {
            "text/plain": [
              "Train :   0%|          | 0/642 [00:00<?, ?it/s]"
            ],
            "application/vnd.jupyter.widget-view+json": {
              "version_major": 2,
              "version_minor": 0,
              "model_id": "86127fd0a27342809bb892b9ff4bd9e2"
            }
          },
          "metadata": {}
        },
        {
          "output_type": "display_data",
          "data": {
            "text/plain": [
              "Valid:   0%|          | 0/58 [00:00<?, ?it/s]"
            ],
            "application/vnd.jupyter.widget-view+json": {
              "version_major": 2,
              "version_minor": 0,
              "model_id": "2fc9efb144db46efbfbd891e9afeabfc"
            }
          },
          "metadata": {}
        },
        {
          "output_type": "stream",
          "name": "stdout",
          "text": [
            "Train Loss: 0.0053 | Val Loss: 0.0064 | Val Dice: 0.6214\n",
            "Learning rate: 0.0008\n",
            "saving best dice 0.6214187383143658\n",
            "EPOCH: 1\n"
          ]
        },
        {
          "output_type": "display_data",
          "data": {
            "text/plain": [
              "Train :   0%|          | 0/642 [00:00<?, ?it/s]"
            ],
            "application/vnd.jupyter.widget-view+json": {
              "version_major": 2,
              "version_minor": 0,
              "model_id": "07ed34b34b014854bf03be613b5ef14d"
            }
          },
          "metadata": {}
        },
        {
          "output_type": "display_data",
          "data": {
            "text/plain": [
              "Valid:   0%|          | 0/58 [00:00<?, ?it/s]"
            ],
            "application/vnd.jupyter.widget-view+json": {
              "version_major": 2,
              "version_minor": 0,
              "model_id": "62ad3999215d4f8c828abeee412ebe51"
            }
          },
          "metadata": {}
        },
        {
          "output_type": "stream",
          "name": "stdout",
          "text": [
            "Train Loss: 0.0054 | Val Loss: 0.0063 | Val Dice: 0.6226\n",
            "Learning rate: 0.0008\n",
            "saving best dice 0.6225820774452732\n",
            "EPOCH: 2\n"
          ]
        },
        {
          "output_type": "display_data",
          "data": {
            "text/plain": [
              "Train :   0%|          | 0/642 [00:00<?, ?it/s]"
            ],
            "application/vnd.jupyter.widget-view+json": {
              "version_major": 2,
              "version_minor": 0,
              "model_id": "acfe0febe9aa4ccaba89f49d4c877caa"
            }
          },
          "metadata": {}
        },
        {
          "output_type": "display_data",
          "data": {
            "text/plain": [
              "Valid:   0%|          | 0/58 [00:00<?, ?it/s]"
            ],
            "application/vnd.jupyter.widget-view+json": {
              "version_major": 2,
              "version_minor": 0,
              "model_id": "1b5bb8874c4846bfbfc09c2031f0c368"
            }
          },
          "metadata": {}
        },
        {
          "output_type": "stream",
          "name": "stdout",
          "text": [
            "Train Loss: 0.0055 | Val Loss: 0.0060 | Val Dice: 0.6366\n",
            "Learning rate: 0.0008\n",
            "saving best dice 0.6365892407318583\n",
            "EPOCH: 3\n"
          ]
        },
        {
          "output_type": "display_data",
          "data": {
            "text/plain": [
              "Train :   0%|          | 0/642 [00:00<?, ?it/s]"
            ],
            "application/vnd.jupyter.widget-view+json": {
              "version_major": 2,
              "version_minor": 0,
              "model_id": "aca65208577c4aebbc03837d6a9ade57"
            }
          },
          "metadata": {}
        },
        {
          "output_type": "error",
          "ename": "KeyboardInterrupt",
          "evalue": "ignored",
          "traceback": [
            "\u001b[0;31m---------------------------------------------------------------------------\u001b[0m",
            "\u001b[0;31mKeyboardInterrupt\u001b[0m                         Traceback (most recent call last)",
            "\u001b[0;32m<ipython-input-35-8017d0fa79f0>\u001b[0m in \u001b[0;36m<cell line: 10>\u001b[0;34m()\u001b[0m\n\u001b[1;32m      8\u001b[0m \u001b[0mstart_time\u001b[0m \u001b[0;34m=\u001b[0m \u001b[0mtimer\u001b[0m\u001b[0;34m(\u001b[0m\u001b[0;34m)\u001b[0m\u001b[0;34m\u001b[0m\u001b[0;34m\u001b[0m\u001b[0m\n\u001b[1;32m      9\u001b[0m \u001b[0;34m\u001b[0m\u001b[0m\n\u001b[0;32m---> 10\u001b[0;31m \u001b[0mmodel_results\u001b[0m \u001b[0;34m=\u001b[0m \u001b[0mtrain\u001b[0m\u001b[0;34m(\u001b[0m\u001b[0mmodel\u001b[0m\u001b[0;34m,\u001b[0m \u001b[0mtrain_dl\u001b[0m\u001b[0;34m,\u001b[0m \u001b[0mvalid_dl\u001b[0m\u001b[0;34m,\u001b[0m \u001b[0moptimizer\u001b[0m\u001b[0;34m,\u001b[0m \u001b[0mNUM_EPOCHS\u001b[0m\u001b[0;34m,\u001b[0m \u001b[0mConfig\u001b[0m\u001b[0;34m.\u001b[0m\u001b[0mdevice\u001b[0m\u001b[0;34m)\u001b[0m\u001b[0;34m\u001b[0m\u001b[0;34m\u001b[0m\u001b[0m\n\u001b[0m\u001b[1;32m     11\u001b[0m \u001b[0;34m\u001b[0m\u001b[0m\n\u001b[1;32m     12\u001b[0m \u001b[0mend_time\u001b[0m \u001b[0;34m=\u001b[0m \u001b[0mtimer\u001b[0m\u001b[0;34m(\u001b[0m\u001b[0;34m)\u001b[0m\u001b[0;34m\u001b[0m\u001b[0;34m\u001b[0m\u001b[0m\n",
            "\u001b[0;32m<ipython-input-28-c0dbaaa73aba>\u001b[0m in \u001b[0;36mtrain\u001b[0;34m(model, train_dataloader, test_dataloader, optimizer, epochs, device)\u001b[0m\n\u001b[1;32m     10\u001b[0m         \u001b[0mprint\u001b[0m\u001b[0;34m(\u001b[0m\u001b[0;34m\"EPOCH:\"\u001b[0m\u001b[0;34m,\u001b[0m \u001b[0mepoch\u001b[0m\u001b[0;34m)\u001b[0m\u001b[0;34m\u001b[0m\u001b[0;34m\u001b[0m\u001b[0m\n\u001b[1;32m     11\u001b[0m \u001b[0;34m\u001b[0m\u001b[0m\n\u001b[0;32m---> 12\u001b[0;31m         train_loss = train_step(model,\n\u001b[0m\u001b[1;32m     13\u001b[0m                               \u001b[0mtrain_dataloader\u001b[0m\u001b[0;34m,\u001b[0m\u001b[0;34m\u001b[0m\u001b[0;34m\u001b[0m\u001b[0m\n\u001b[1;32m     14\u001b[0m                               \u001b[0moptimizer\u001b[0m\u001b[0;34m,\u001b[0m\u001b[0;34m\u001b[0m\u001b[0;34m\u001b[0m\u001b[0m\n",
            "\u001b[0;32m<ipython-input-25-ddebcfb38fbc>\u001b[0m in \u001b[0;36mtrain_step\u001b[0;34m(model, dataloader, optimizer, device)\u001b[0m\n\u001b[1;32m     27\u001b[0m         \u001b[0;31m# Uncales gradients and calls\u001b[0m\u001b[0;34m\u001b[0m\u001b[0;34m\u001b[0m\u001b[0m\n\u001b[1;32m     28\u001b[0m         \u001b[0;31m# or skips optimizer.step()\u001b[0m\u001b[0;34m\u001b[0m\u001b[0;34m\u001b[0m\u001b[0m\n\u001b[0;32m---> 29\u001b[0;31m         \u001b[0mscaler\u001b[0m\u001b[0;34m.\u001b[0m\u001b[0mstep\u001b[0m\u001b[0;34m(\u001b[0m\u001b[0moptimizer\u001b[0m\u001b[0;34m)\u001b[0m\u001b[0;34m\u001b[0m\u001b[0;34m\u001b[0m\u001b[0m\n\u001b[0m\u001b[1;32m     30\u001b[0m \u001b[0;34m\u001b[0m\u001b[0m\n\u001b[1;32m     31\u001b[0m         \u001b[0;31m# Updates the scale for next iteration\u001b[0m\u001b[0;34m\u001b[0m\u001b[0;34m\u001b[0m\u001b[0m\n",
            "\u001b[0;32m/usr/local/lib/python3.10/dist-packages/torch/cuda/amp/grad_scaler.py\u001b[0m in \u001b[0;36mstep\u001b[0;34m(self, optimizer, *args, **kwargs)\u001b[0m\n\u001b[1;32m    372\u001b[0m         \u001b[0;32massert\u001b[0m \u001b[0mlen\u001b[0m\u001b[0;34m(\u001b[0m\u001b[0moptimizer_state\u001b[0m\u001b[0;34m[\u001b[0m\u001b[0;34m\"found_inf_per_device\"\u001b[0m\u001b[0;34m]\u001b[0m\u001b[0;34m)\u001b[0m \u001b[0;34m>\u001b[0m \u001b[0;36m0\u001b[0m\u001b[0;34m,\u001b[0m \u001b[0;34m\"No inf checks were recorded for this optimizer.\"\u001b[0m\u001b[0;34m\u001b[0m\u001b[0;34m\u001b[0m\u001b[0m\n\u001b[1;32m    373\u001b[0m \u001b[0;34m\u001b[0m\u001b[0m\n\u001b[0;32m--> 374\u001b[0;31m         \u001b[0mretval\u001b[0m \u001b[0;34m=\u001b[0m \u001b[0mself\u001b[0m\u001b[0;34m.\u001b[0m\u001b[0m_maybe_opt_step\u001b[0m\u001b[0;34m(\u001b[0m\u001b[0moptimizer\u001b[0m\u001b[0;34m,\u001b[0m \u001b[0moptimizer_state\u001b[0m\u001b[0;34m,\u001b[0m \u001b[0;34m*\u001b[0m\u001b[0margs\u001b[0m\u001b[0;34m,\u001b[0m \u001b[0;34m**\u001b[0m\u001b[0mkwargs\u001b[0m\u001b[0;34m)\u001b[0m\u001b[0;34m\u001b[0m\u001b[0;34m\u001b[0m\u001b[0m\n\u001b[0m\u001b[1;32m    375\u001b[0m \u001b[0;34m\u001b[0m\u001b[0m\n\u001b[1;32m    376\u001b[0m         \u001b[0moptimizer_state\u001b[0m\u001b[0;34m[\u001b[0m\u001b[0;34m\"stage\"\u001b[0m\u001b[0;34m]\u001b[0m \u001b[0;34m=\u001b[0m \u001b[0mOptState\u001b[0m\u001b[0;34m.\u001b[0m\u001b[0mSTEPPED\u001b[0m\u001b[0;34m\u001b[0m\u001b[0;34m\u001b[0m\u001b[0m\n",
            "\u001b[0;32m/usr/local/lib/python3.10/dist-packages/torch/cuda/amp/grad_scaler.py\u001b[0m in \u001b[0;36m_maybe_opt_step\u001b[0;34m(self, optimizer, optimizer_state, *args, **kwargs)\u001b[0m\n\u001b[1;32m    287\u001b[0m     \u001b[0;32mdef\u001b[0m \u001b[0m_maybe_opt_step\u001b[0m\u001b[0;34m(\u001b[0m\u001b[0mself\u001b[0m\u001b[0;34m,\u001b[0m \u001b[0moptimizer\u001b[0m\u001b[0;34m,\u001b[0m \u001b[0moptimizer_state\u001b[0m\u001b[0;34m,\u001b[0m \u001b[0;34m*\u001b[0m\u001b[0margs\u001b[0m\u001b[0;34m,\u001b[0m \u001b[0;34m**\u001b[0m\u001b[0mkwargs\u001b[0m\u001b[0;34m)\u001b[0m\u001b[0;34m:\u001b[0m\u001b[0;34m\u001b[0m\u001b[0;34m\u001b[0m\u001b[0m\n\u001b[1;32m    288\u001b[0m         \u001b[0mretval\u001b[0m \u001b[0;34m=\u001b[0m \u001b[0;32mNone\u001b[0m\u001b[0;34m\u001b[0m\u001b[0;34m\u001b[0m\u001b[0m\n\u001b[0;32m--> 289\u001b[0;31m         \u001b[0;32mif\u001b[0m \u001b[0;32mnot\u001b[0m \u001b[0msum\u001b[0m\u001b[0;34m(\u001b[0m\u001b[0mv\u001b[0m\u001b[0;34m.\u001b[0m\u001b[0mitem\u001b[0m\u001b[0;34m(\u001b[0m\u001b[0;34m)\u001b[0m \u001b[0;32mfor\u001b[0m \u001b[0mv\u001b[0m \u001b[0;32min\u001b[0m \u001b[0moptimizer_state\u001b[0m\u001b[0;34m[\u001b[0m\u001b[0;34m\"found_inf_per_device\"\u001b[0m\u001b[0;34m]\u001b[0m\u001b[0;34m.\u001b[0m\u001b[0mvalues\u001b[0m\u001b[0;34m(\u001b[0m\u001b[0;34m)\u001b[0m\u001b[0;34m)\u001b[0m\u001b[0;34m:\u001b[0m\u001b[0;34m\u001b[0m\u001b[0;34m\u001b[0m\u001b[0m\n\u001b[0m\u001b[1;32m    290\u001b[0m             \u001b[0mretval\u001b[0m \u001b[0;34m=\u001b[0m \u001b[0moptimizer\u001b[0m\u001b[0;34m.\u001b[0m\u001b[0mstep\u001b[0m\u001b[0;34m(\u001b[0m\u001b[0;34m*\u001b[0m\u001b[0margs\u001b[0m\u001b[0;34m,\u001b[0m \u001b[0;34m**\u001b[0m\u001b[0mkwargs\u001b[0m\u001b[0;34m)\u001b[0m\u001b[0;34m\u001b[0m\u001b[0;34m\u001b[0m\u001b[0m\n\u001b[1;32m    291\u001b[0m         \u001b[0;32mreturn\u001b[0m \u001b[0mretval\u001b[0m\u001b[0;34m\u001b[0m\u001b[0;34m\u001b[0m\u001b[0m\n",
            "\u001b[0;32m/usr/local/lib/python3.10/dist-packages/torch/cuda/amp/grad_scaler.py\u001b[0m in \u001b[0;36m<genexpr>\u001b[0;34m(.0)\u001b[0m\n\u001b[1;32m    287\u001b[0m     \u001b[0;32mdef\u001b[0m \u001b[0m_maybe_opt_step\u001b[0m\u001b[0;34m(\u001b[0m\u001b[0mself\u001b[0m\u001b[0;34m,\u001b[0m \u001b[0moptimizer\u001b[0m\u001b[0;34m,\u001b[0m \u001b[0moptimizer_state\u001b[0m\u001b[0;34m,\u001b[0m \u001b[0;34m*\u001b[0m\u001b[0margs\u001b[0m\u001b[0;34m,\u001b[0m \u001b[0;34m**\u001b[0m\u001b[0mkwargs\u001b[0m\u001b[0;34m)\u001b[0m\u001b[0;34m:\u001b[0m\u001b[0;34m\u001b[0m\u001b[0;34m\u001b[0m\u001b[0m\n\u001b[1;32m    288\u001b[0m         \u001b[0mretval\u001b[0m \u001b[0;34m=\u001b[0m \u001b[0;32mNone\u001b[0m\u001b[0;34m\u001b[0m\u001b[0;34m\u001b[0m\u001b[0m\n\u001b[0;32m--> 289\u001b[0;31m         \u001b[0;32mif\u001b[0m \u001b[0;32mnot\u001b[0m \u001b[0msum\u001b[0m\u001b[0;34m(\u001b[0m\u001b[0mv\u001b[0m\u001b[0;34m.\u001b[0m\u001b[0mitem\u001b[0m\u001b[0;34m(\u001b[0m\u001b[0;34m)\u001b[0m \u001b[0;32mfor\u001b[0m \u001b[0mv\u001b[0m \u001b[0;32min\u001b[0m \u001b[0moptimizer_state\u001b[0m\u001b[0;34m[\u001b[0m\u001b[0;34m\"found_inf_per_device\"\u001b[0m\u001b[0;34m]\u001b[0m\u001b[0;34m.\u001b[0m\u001b[0mvalues\u001b[0m\u001b[0;34m(\u001b[0m\u001b[0;34m)\u001b[0m\u001b[0;34m)\u001b[0m\u001b[0;34m:\u001b[0m\u001b[0;34m\u001b[0m\u001b[0;34m\u001b[0m\u001b[0m\n\u001b[0m\u001b[1;32m    290\u001b[0m             \u001b[0mretval\u001b[0m \u001b[0;34m=\u001b[0m \u001b[0moptimizer\u001b[0m\u001b[0;34m.\u001b[0m\u001b[0mstep\u001b[0m\u001b[0;34m(\u001b[0m\u001b[0;34m*\u001b[0m\u001b[0margs\u001b[0m\u001b[0;34m,\u001b[0m \u001b[0;34m**\u001b[0m\u001b[0mkwargs\u001b[0m\u001b[0;34m)\u001b[0m\u001b[0;34m\u001b[0m\u001b[0;34m\u001b[0m\u001b[0m\n\u001b[1;32m    291\u001b[0m         \u001b[0;32mreturn\u001b[0m \u001b[0mretval\u001b[0m\u001b[0;34m\u001b[0m\u001b[0;34m\u001b[0m\u001b[0m\n",
            "\u001b[0;31mKeyboardInterrupt\u001b[0m: "
          ]
        }
      ]
    },
    {
      "cell_type": "code",
      "source": [
        "from google.colab import drive\n",
        "drive.mount('/content/drive')"
      ],
      "metadata": {
        "colab": {
          "base_uri": "https://localhost:8080/"
        },
        "id": "fVx0CyvmUYLX",
        "outputId": "152a23fd-ad0e-494a-9460-8517c10dd58c"
      },
      "id": "fVx0CyvmUYLX",
      "execution_count": 2,
      "outputs": [
        {
          "output_type": "stream",
          "name": "stdout",
          "text": [
            "Mounted at /content/drive\n"
          ]
        }
      ]
    },
    {
      "cell_type": "code",
      "source": [],
      "metadata": {
        "id": "_sTX4PzmjIYQ"
      },
      "id": "_sTX4PzmjIYQ",
      "execution_count": 36,
      "outputs": []
    },
    {
      "cell_type": "code",
      "execution_count": null,
      "id": "a9235160",
      "metadata": {
        "execution": {
          "iopub.execute_input": "2023-07-08T19:54:50.818226Z",
          "iopub.status.busy": "2023-07-08T19:54:50.817391Z",
          "iopub.status.idle": "2023-07-08T22:30:30.845509Z",
          "shell.execute_reply": "2023-07-08T22:30:30.842785Z"
        },
        "papermill": {
          "duration": 9340.08335,
          "end_time": "2023-07-08T22:30:30.850345",
          "exception": false,
          "start_time": "2023-07-08T19:54:50.766995",
          "status": "completed"
        },
        "tags": [],
        "id": "a9235160"
      },
      "outputs": [],
      "source": [
        "\n",
        "\n",
        "total_steps = len(train_ds)\n",
        "optimizer = get_optimizer(lr=Config.lr, params=model.parameters())\n",
        "scheduler = get_scheduler(Config, optimizer, total_steps)\n",
        "\n",
        "# wandb.watch(model, log_freq=100, log='all')\n",
        "\n",
        "from timeit import default_timer as timer\n",
        "start_time = timer()\n",
        "\n",
        "model_results = train(model, train_dl, valid_dl, optimizer, NUM_EPOCHS, Config.device)\n",
        "\n",
        "end_time = timer()\n",
        "\n",
        "# run.finish()\n",
        "print(f'Total Training Time: {end_time-start_time:.3f} seconds')"
      ]
    },
    {
      "cell_type": "markdown",
      "id": "ba39c35a",
      "metadata": {
        "papermill": {
          "duration": 0.065045,
          "end_time": "2023-07-08T22:30:30.978975",
          "exception": false,
          "start_time": "2023-07-08T22:30:30.913930",
          "status": "completed"
        },
        "tags": [],
        "id": "ba39c35a"
      },
      "source": [
        "## Finding the Best Threshold"
      ]
    },
    {
      "cell_type": "code",
      "execution_count": null,
      "id": "1bc2df99",
      "metadata": {
        "execution": {
          "iopub.execute_input": "2023-07-08T22:30:31.106801Z",
          "iopub.status.busy": "2023-07-08T22:30:31.105225Z",
          "iopub.status.idle": "2023-07-08T22:30:43.616600Z",
          "shell.execute_reply": "2023-07-08T22:30:43.615299Z"
        },
        "papermill": {
          "duration": 12.577855,
          "end_time": "2023-07-08T22:30:43.619079",
          "exception": false,
          "start_time": "2023-07-08T22:30:31.041224",
          "status": "completed"
        },
        "tags": [],
        "id": "1bc2df99"
      },
      "outputs": [],
      "source": [
        "# Predicting the Valid Set\n",
        "model.eval()\n",
        "torch.set_grad_enabled(False)\n",
        "\n",
        "val_data = defaultdict(list)\n",
        "pbar = tqdm(enumerate(valid_dl), total=len(valid_dl), desc='Valid')\n",
        "for step, (X, y) in pbar:\n",
        "    X, y = X.to(Config.device), y.to(Config.device)\n",
        "\n",
        "    output = model(X, y)\n",
        "    for key, val in output.items():\n",
        "        val_data[key] += [output[key]]\n",
        "\n",
        "for key, val in output.items():\n",
        "    value = val_data[key]\n",
        "    if len(value[0].shape) == 0:\n",
        "        val_data[key] = torch.stack(value)\n",
        "    else:\n",
        "        val_data[key] = torch.cat(value, dim=0).cpu().detach().numpy()\n",
        "\n",
        "val_losses = val_data[\"loss\"].cpu().numpy()\n",
        "val_loss = np.sum(val_losses)\n",
        "val_loss = val_loss / len(valid_ds)"
      ]
    },
    {
      "cell_type": "code",
      "execution_count": null,
      "id": "498d91b8",
      "metadata": {
        "execution": {
          "iopub.execute_input": "2023-07-08T22:30:43.751586Z",
          "iopub.status.busy": "2023-07-08T22:30:43.751172Z",
          "iopub.status.idle": "2023-07-08T22:30:43.756071Z",
          "shell.execute_reply": "2023-07-08T22:30:43.755156Z"
        },
        "papermill": {
          "duration": 0.072774,
          "end_time": "2023-07-08T22:30:43.758152",
          "exception": false,
          "start_time": "2023-07-08T22:30:43.685378",
          "status": "completed"
        },
        "tags": [],
        "id": "498d91b8"
      },
      "outputs": [],
      "source": [
        "predictions = val_data['logits']\n",
        "ground_truths = val_data['target']"
      ]
    },
    {
      "cell_type": "code",
      "execution_count": null,
      "id": "5ae32d6c",
      "metadata": {
        "execution": {
          "iopub.execute_input": "2023-07-08T22:30:43.884682Z",
          "iopub.status.busy": "2023-07-08T22:30:43.883629Z",
          "iopub.status.idle": "2023-07-08T22:30:43.891219Z",
          "shell.execute_reply": "2023-07-08T22:30:43.890068Z"
        },
        "papermill": {
          "duration": 0.074086,
          "end_time": "2023-07-08T22:30:43.893750",
          "exception": false,
          "start_time": "2023-07-08T22:30:43.819664",
          "status": "completed"
        },
        "tags": [],
        "id": "5ae32d6c"
      },
      "outputs": [],
      "source": [
        "predictions.shape, ground_truths.shape"
      ]
    },
    {
      "cell_type": "code",
      "execution_count": null,
      "id": "0a3bf850",
      "metadata": {
        "execution": {
          "iopub.execute_input": "2023-07-08T22:30:44.020997Z",
          "iopub.status.busy": "2023-07-08T22:30:44.020634Z",
          "iopub.status.idle": "2023-07-08T22:32:11.980954Z",
          "shell.execute_reply": "2023-07-08T22:32:11.979938Z"
        },
        "papermill": {
          "duration": 88.028733,
          "end_time": "2023-07-08T22:32:11.983422",
          "exception": false,
          "start_time": "2023-07-08T22:30:43.954689",
          "status": "completed"
        },
        "tags": [],
        "id": "0a3bf850"
      },
      "outputs": [],
      "source": [
        "# Finding the Best Threshold\n",
        "bdice = -1\n",
        "bi = None\n",
        "for i in tqdm(np.arange(0, 1.01, 0.01)):\n",
        "    val_dice = dice_coef(ground_truths, predictions, i)\n",
        "    if val_dice > bdice:\n",
        "        bdice = val_dice\n",
        "        bi = i"
      ]
    },
    {
      "cell_type": "code",
      "execution_count": null,
      "id": "91d21da8",
      "metadata": {
        "execution": {
          "iopub.execute_input": "2023-07-08T22:32:12.113847Z",
          "iopub.status.busy": "2023-07-08T22:32:12.112900Z",
          "iopub.status.idle": "2023-07-08T22:32:12.119482Z",
          "shell.execute_reply": "2023-07-08T22:32:12.118225Z"
        },
        "papermill": {
          "duration": 0.074936,
          "end_time": "2023-07-08T22:32:12.121472",
          "exception": false,
          "start_time": "2023-07-08T22:32:12.046536",
          "status": "completed"
        },
        "tags": [],
        "id": "91d21da8"
      },
      "outputs": [],
      "source": [
        "print(f'Best Threshold: {bi}')\n",
        "print(f'Best Validation Dice Score: {bdice}')"
      ]
    }
  ],
  "metadata": {
    "kernelspec": {
      "display_name": "Python 3",
      "name": "python3"
    },
    "language_info": {
      "codemirror_mode": {
        "name": "ipython",
        "version": 3
      },
      "file_extension": ".py",
      "mimetype": "text/x-python",
      "name": "python",
      "nbconvert_exporter": "python",
      "pygments_lexer": "ipython3",
      "version": "3.10.10"
    },
    "papermill": {
      "default_parameters": {},
      "duration": 9493.255067,
      "end_time": "2023-07-08T22:32:15.103007",
      "environment_variables": {},
      "exception": null,
      "input_path": "__notebook__.ipynb",
      "output_path": "__notebook__.ipynb",
      "parameters": {},
      "start_time": "2023-07-08T19:54:01.847940",
      "version": "2.4.0"
    },
    "widgets": {
      "application/vnd.jupyter.widget-state+json": {
        "6672c4ba1f124501a0dd84cf0433d819": {
          "model_module": "@jupyter-widgets/controls",
          "model_name": "HBoxModel",
          "model_module_version": "1.5.0",
          "state": {
            "_dom_classes": [],
            "_model_module": "@jupyter-widgets/controls",
            "_model_module_version": "1.5.0",
            "_model_name": "HBoxModel",
            "_view_count": null,
            "_view_module": "@jupyter-widgets/controls",
            "_view_module_version": "1.5.0",
            "_view_name": "HBoxView",
            "box_style": "",
            "children": [
              "IPY_MODEL_eb6a783978a94d3083159da649035f40",
              "IPY_MODEL_0085eba9d27547bcb31cbe818661cf3c",
              "IPY_MODEL_e832e67bd6804de498be977938935225"
            ],
            "layout": "IPY_MODEL_74d33a640bd84332bf894a860c7df340"
          }
        },
        "eb6a783978a94d3083159da649035f40": {
          "model_module": "@jupyter-widgets/controls",
          "model_name": "HTMLModel",
          "model_module_version": "1.5.0",
          "state": {
            "_dom_classes": [],
            "_model_module": "@jupyter-widgets/controls",
            "_model_module_version": "1.5.0",
            "_model_name": "HTMLModel",
            "_view_count": null,
            "_view_module": "@jupyter-widgets/controls",
            "_view_module_version": "1.5.0",
            "_view_name": "HTMLView",
            "description": "",
            "description_tooltip": null,
            "layout": "IPY_MODEL_00681299f5294ce5a3adbf00ab7797fd",
            "placeholder": "​",
            "style": "IPY_MODEL_a45895847d9e4645b3e5cfed3c20ef1d",
            "value": "Val Loss:0.4438 : 100%"
          }
        },
        "0085eba9d27547bcb31cbe818661cf3c": {
          "model_module": "@jupyter-widgets/controls",
          "model_name": "FloatProgressModel",
          "model_module_version": "1.5.0",
          "state": {
            "_dom_classes": [],
            "_model_module": "@jupyter-widgets/controls",
            "_model_module_version": "1.5.0",
            "_model_name": "FloatProgressModel",
            "_view_count": null,
            "_view_module": "@jupyter-widgets/controls",
            "_view_module_version": "1.5.0",
            "_view_name": "ProgressView",
            "bar_style": "success",
            "description": "",
            "description_tooltip": null,
            "layout": "IPY_MODEL_e8691321d7c14462b3139884741c5d87",
            "max": 78,
            "min": 0,
            "orientation": "horizontal",
            "style": "IPY_MODEL_bdaea5213090458b83098b747216b580",
            "value": 78
          }
        },
        "e832e67bd6804de498be977938935225": {
          "model_module": "@jupyter-widgets/controls",
          "model_name": "HTMLModel",
          "model_module_version": "1.5.0",
          "state": {
            "_dom_classes": [],
            "_model_module": "@jupyter-widgets/controls",
            "_model_module_version": "1.5.0",
            "_model_name": "HTMLModel",
            "_view_count": null,
            "_view_module": "@jupyter-widgets/controls",
            "_view_module_version": "1.5.0",
            "_view_name": "HTMLView",
            "description": "",
            "description_tooltip": null,
            "layout": "IPY_MODEL_369d75ae1bef4e1fbf0f48951fb27016",
            "placeholder": "​",
            "style": "IPY_MODEL_9dc7d469db62433981dc9a5f4c329a36",
            "value": " 78/78 [00:09&lt;00:00, 12.37it/s]"
          }
        },
        "74d33a640bd84332bf894a860c7df340": {
          "model_module": "@jupyter-widgets/base",
          "model_name": "LayoutModel",
          "model_module_version": "1.2.0",
          "state": {
            "_model_module": "@jupyter-widgets/base",
            "_model_module_version": "1.2.0",
            "_model_name": "LayoutModel",
            "_view_count": null,
            "_view_module": "@jupyter-widgets/base",
            "_view_module_version": "1.2.0",
            "_view_name": "LayoutView",
            "align_content": null,
            "align_items": null,
            "align_self": null,
            "border": null,
            "bottom": null,
            "display": null,
            "flex": null,
            "flex_flow": null,
            "grid_area": null,
            "grid_auto_columns": null,
            "grid_auto_flow": null,
            "grid_auto_rows": null,
            "grid_column": null,
            "grid_gap": null,
            "grid_row": null,
            "grid_template_areas": null,
            "grid_template_columns": null,
            "grid_template_rows": null,
            "height": null,
            "justify_content": null,
            "justify_items": null,
            "left": null,
            "margin": null,
            "max_height": null,
            "max_width": null,
            "min_height": null,
            "min_width": null,
            "object_fit": null,
            "object_position": null,
            "order": null,
            "overflow": null,
            "overflow_x": null,
            "overflow_y": null,
            "padding": null,
            "right": null,
            "top": null,
            "visibility": null,
            "width": null
          }
        },
        "00681299f5294ce5a3adbf00ab7797fd": {
          "model_module": "@jupyter-widgets/base",
          "model_name": "LayoutModel",
          "model_module_version": "1.2.0",
          "state": {
            "_model_module": "@jupyter-widgets/base",
            "_model_module_version": "1.2.0",
            "_model_name": "LayoutModel",
            "_view_count": null,
            "_view_module": "@jupyter-widgets/base",
            "_view_module_version": "1.2.0",
            "_view_name": "LayoutView",
            "align_content": null,
            "align_items": null,
            "align_self": null,
            "border": null,
            "bottom": null,
            "display": null,
            "flex": null,
            "flex_flow": null,
            "grid_area": null,
            "grid_auto_columns": null,
            "grid_auto_flow": null,
            "grid_auto_rows": null,
            "grid_column": null,
            "grid_gap": null,
            "grid_row": null,
            "grid_template_areas": null,
            "grid_template_columns": null,
            "grid_template_rows": null,
            "height": null,
            "justify_content": null,
            "justify_items": null,
            "left": null,
            "margin": null,
            "max_height": null,
            "max_width": null,
            "min_height": null,
            "min_width": null,
            "object_fit": null,
            "object_position": null,
            "order": null,
            "overflow": null,
            "overflow_x": null,
            "overflow_y": null,
            "padding": null,
            "right": null,
            "top": null,
            "visibility": null,
            "width": null
          }
        },
        "a45895847d9e4645b3e5cfed3c20ef1d": {
          "model_module": "@jupyter-widgets/controls",
          "model_name": "DescriptionStyleModel",
          "model_module_version": "1.5.0",
          "state": {
            "_model_module": "@jupyter-widgets/controls",
            "_model_module_version": "1.5.0",
            "_model_name": "DescriptionStyleModel",
            "_view_count": null,
            "_view_module": "@jupyter-widgets/base",
            "_view_module_version": "1.2.0",
            "_view_name": "StyleView",
            "description_width": ""
          }
        },
        "e8691321d7c14462b3139884741c5d87": {
          "model_module": "@jupyter-widgets/base",
          "model_name": "LayoutModel",
          "model_module_version": "1.2.0",
          "state": {
            "_model_module": "@jupyter-widgets/base",
            "_model_module_version": "1.2.0",
            "_model_name": "LayoutModel",
            "_view_count": null,
            "_view_module": "@jupyter-widgets/base",
            "_view_module_version": "1.2.0",
            "_view_name": "LayoutView",
            "align_content": null,
            "align_items": null,
            "align_self": null,
            "border": null,
            "bottom": null,
            "display": null,
            "flex": null,
            "flex_flow": null,
            "grid_area": null,
            "grid_auto_columns": null,
            "grid_auto_flow": null,
            "grid_auto_rows": null,
            "grid_column": null,
            "grid_gap": null,
            "grid_row": null,
            "grid_template_areas": null,
            "grid_template_columns": null,
            "grid_template_rows": null,
            "height": null,
            "justify_content": null,
            "justify_items": null,
            "left": null,
            "margin": null,
            "max_height": null,
            "max_width": null,
            "min_height": null,
            "min_width": null,
            "object_fit": null,
            "object_position": null,
            "order": null,
            "overflow": null,
            "overflow_x": null,
            "overflow_y": null,
            "padding": null,
            "right": null,
            "top": null,
            "visibility": null,
            "width": null
          }
        },
        "bdaea5213090458b83098b747216b580": {
          "model_module": "@jupyter-widgets/controls",
          "model_name": "ProgressStyleModel",
          "model_module_version": "1.5.0",
          "state": {
            "_model_module": "@jupyter-widgets/controls",
            "_model_module_version": "1.5.0",
            "_model_name": "ProgressStyleModel",
            "_view_count": null,
            "_view_module": "@jupyter-widgets/base",
            "_view_module_version": "1.2.0",
            "_view_name": "StyleView",
            "bar_color": null,
            "description_width": ""
          }
        },
        "369d75ae1bef4e1fbf0f48951fb27016": {
          "model_module": "@jupyter-widgets/base",
          "model_name": "LayoutModel",
          "model_module_version": "1.2.0",
          "state": {
            "_model_module": "@jupyter-widgets/base",
            "_model_module_version": "1.2.0",
            "_model_name": "LayoutModel",
            "_view_count": null,
            "_view_module": "@jupyter-widgets/base",
            "_view_module_version": "1.2.0",
            "_view_name": "LayoutView",
            "align_content": null,
            "align_items": null,
            "align_self": null,
            "border": null,
            "bottom": null,
            "display": null,
            "flex": null,
            "flex_flow": null,
            "grid_area": null,
            "grid_auto_columns": null,
            "grid_auto_flow": null,
            "grid_auto_rows": null,
            "grid_column": null,
            "grid_gap": null,
            "grid_row": null,
            "grid_template_areas": null,
            "grid_template_columns": null,
            "grid_template_rows": null,
            "height": null,
            "justify_content": null,
            "justify_items": null,
            "left": null,
            "margin": null,
            "max_height": null,
            "max_width": null,
            "min_height": null,
            "min_width": null,
            "object_fit": null,
            "object_position": null,
            "order": null,
            "overflow": null,
            "overflow_x": null,
            "overflow_y": null,
            "padding": null,
            "right": null,
            "top": null,
            "visibility": null,
            "width": null
          }
        },
        "9dc7d469db62433981dc9a5f4c329a36": {
          "model_module": "@jupyter-widgets/controls",
          "model_name": "DescriptionStyleModel",
          "model_module_version": "1.5.0",
          "state": {
            "_model_module": "@jupyter-widgets/controls",
            "_model_module_version": "1.5.0",
            "_model_name": "DescriptionStyleModel",
            "_view_count": null,
            "_view_module": "@jupyter-widgets/base",
            "_view_module_version": "1.2.0",
            "_view_name": "StyleView",
            "description_width": ""
          }
        },
        "86127fd0a27342809bb892b9ff4bd9e2": {
          "model_module": "@jupyter-widgets/controls",
          "model_name": "HBoxModel",
          "model_module_version": "1.5.0",
          "state": {
            "_dom_classes": [],
            "_model_module": "@jupyter-widgets/controls",
            "_model_module_version": "1.5.0",
            "_model_name": "HBoxModel",
            "_view_count": null,
            "_view_module": "@jupyter-widgets/controls",
            "_view_module_version": "1.5.0",
            "_view_name": "HBoxView",
            "box_style": "",
            "children": [
              "IPY_MODEL_d4bde008837e4b58a4dd8c4d06692c00",
              "IPY_MODEL_03e7b650bfa9434ca397d59205adc903",
              "IPY_MODEL_f974d26fb23b4b21a06b57d43f99d7bc"
            ],
            "layout": "IPY_MODEL_95c32545c14c4e28867d3e92f783401a"
          }
        },
        "d4bde008837e4b58a4dd8c4d06692c00": {
          "model_module": "@jupyter-widgets/controls",
          "model_name": "HTMLModel",
          "model_module_version": "1.5.0",
          "state": {
            "_dom_classes": [],
            "_model_module": "@jupyter-widgets/controls",
            "_model_module_version": "1.5.0",
            "_model_name": "HTMLModel",
            "_view_count": null,
            "_view_module": "@jupyter-widgets/controls",
            "_view_module_version": "1.5.0",
            "_view_name": "HTMLView",
            "description": "",
            "description_tooltip": null,
            "layout": "IPY_MODEL_406baea2c1dd483ba0cde2f15a977444",
            "placeholder": "​",
            "style": "IPY_MODEL_beacb0864d194a759ba4df61e74ed53f",
            "value": "Train - Loss:0.1703 : 100%"
          }
        },
        "03e7b650bfa9434ca397d59205adc903": {
          "model_module": "@jupyter-widgets/controls",
          "model_name": "FloatProgressModel",
          "model_module_version": "1.5.0",
          "state": {
            "_dom_classes": [],
            "_model_module": "@jupyter-widgets/controls",
            "_model_module_version": "1.5.0",
            "_model_name": "FloatProgressModel",
            "_view_count": null,
            "_view_module": "@jupyter-widgets/controls",
            "_view_module_version": "1.5.0",
            "_view_name": "ProgressView",
            "bar_style": "success",
            "description": "",
            "description_tooltip": null,
            "layout": "IPY_MODEL_1f7e17f0de73499cb0c181e4df70c579",
            "max": 642,
            "min": 0,
            "orientation": "horizontal",
            "style": "IPY_MODEL_da42394cc33841e980bd3fde7707c792",
            "value": 642
          }
        },
        "f974d26fb23b4b21a06b57d43f99d7bc": {
          "model_module": "@jupyter-widgets/controls",
          "model_name": "HTMLModel",
          "model_module_version": "1.5.0",
          "state": {
            "_dom_classes": [],
            "_model_module": "@jupyter-widgets/controls",
            "_model_module_version": "1.5.0",
            "_model_name": "HTMLModel",
            "_view_count": null,
            "_view_module": "@jupyter-widgets/controls",
            "_view_module_version": "1.5.0",
            "_view_name": "HTMLView",
            "description": "",
            "description_tooltip": null,
            "layout": "IPY_MODEL_e0b2f9adcff74fb0969444df6e72e9cf",
            "placeholder": "​",
            "style": "IPY_MODEL_60ce8e911efe46cab1b48cf8c31a77ce",
            "value": " 642/642 [02:40&lt;00:00,  2.84it/s]"
          }
        },
        "95c32545c14c4e28867d3e92f783401a": {
          "model_module": "@jupyter-widgets/base",
          "model_name": "LayoutModel",
          "model_module_version": "1.2.0",
          "state": {
            "_model_module": "@jupyter-widgets/base",
            "_model_module_version": "1.2.0",
            "_model_name": "LayoutModel",
            "_view_count": null,
            "_view_module": "@jupyter-widgets/base",
            "_view_module_version": "1.2.0",
            "_view_name": "LayoutView",
            "align_content": null,
            "align_items": null,
            "align_self": null,
            "border": null,
            "bottom": null,
            "display": null,
            "flex": null,
            "flex_flow": null,
            "grid_area": null,
            "grid_auto_columns": null,
            "grid_auto_flow": null,
            "grid_auto_rows": null,
            "grid_column": null,
            "grid_gap": null,
            "grid_row": null,
            "grid_template_areas": null,
            "grid_template_columns": null,
            "grid_template_rows": null,
            "height": null,
            "justify_content": null,
            "justify_items": null,
            "left": null,
            "margin": null,
            "max_height": null,
            "max_width": null,
            "min_height": null,
            "min_width": null,
            "object_fit": null,
            "object_position": null,
            "order": null,
            "overflow": null,
            "overflow_x": null,
            "overflow_y": null,
            "padding": null,
            "right": null,
            "top": null,
            "visibility": null,
            "width": null
          }
        },
        "406baea2c1dd483ba0cde2f15a977444": {
          "model_module": "@jupyter-widgets/base",
          "model_name": "LayoutModel",
          "model_module_version": "1.2.0",
          "state": {
            "_model_module": "@jupyter-widgets/base",
            "_model_module_version": "1.2.0",
            "_model_name": "LayoutModel",
            "_view_count": null,
            "_view_module": "@jupyter-widgets/base",
            "_view_module_version": "1.2.0",
            "_view_name": "LayoutView",
            "align_content": null,
            "align_items": null,
            "align_self": null,
            "border": null,
            "bottom": null,
            "display": null,
            "flex": null,
            "flex_flow": null,
            "grid_area": null,
            "grid_auto_columns": null,
            "grid_auto_flow": null,
            "grid_auto_rows": null,
            "grid_column": null,
            "grid_gap": null,
            "grid_row": null,
            "grid_template_areas": null,
            "grid_template_columns": null,
            "grid_template_rows": null,
            "height": null,
            "justify_content": null,
            "justify_items": null,
            "left": null,
            "margin": null,
            "max_height": null,
            "max_width": null,
            "min_height": null,
            "min_width": null,
            "object_fit": null,
            "object_position": null,
            "order": null,
            "overflow": null,
            "overflow_x": null,
            "overflow_y": null,
            "padding": null,
            "right": null,
            "top": null,
            "visibility": null,
            "width": null
          }
        },
        "beacb0864d194a759ba4df61e74ed53f": {
          "model_module": "@jupyter-widgets/controls",
          "model_name": "DescriptionStyleModel",
          "model_module_version": "1.5.0",
          "state": {
            "_model_module": "@jupyter-widgets/controls",
            "_model_module_version": "1.5.0",
            "_model_name": "DescriptionStyleModel",
            "_view_count": null,
            "_view_module": "@jupyter-widgets/base",
            "_view_module_version": "1.2.0",
            "_view_name": "StyleView",
            "description_width": ""
          }
        },
        "1f7e17f0de73499cb0c181e4df70c579": {
          "model_module": "@jupyter-widgets/base",
          "model_name": "LayoutModel",
          "model_module_version": "1.2.0",
          "state": {
            "_model_module": "@jupyter-widgets/base",
            "_model_module_version": "1.2.0",
            "_model_name": "LayoutModel",
            "_view_count": null,
            "_view_module": "@jupyter-widgets/base",
            "_view_module_version": "1.2.0",
            "_view_name": "LayoutView",
            "align_content": null,
            "align_items": null,
            "align_self": null,
            "border": null,
            "bottom": null,
            "display": null,
            "flex": null,
            "flex_flow": null,
            "grid_area": null,
            "grid_auto_columns": null,
            "grid_auto_flow": null,
            "grid_auto_rows": null,
            "grid_column": null,
            "grid_gap": null,
            "grid_row": null,
            "grid_template_areas": null,
            "grid_template_columns": null,
            "grid_template_rows": null,
            "height": null,
            "justify_content": null,
            "justify_items": null,
            "left": null,
            "margin": null,
            "max_height": null,
            "max_width": null,
            "min_height": null,
            "min_width": null,
            "object_fit": null,
            "object_position": null,
            "order": null,
            "overflow": null,
            "overflow_x": null,
            "overflow_y": null,
            "padding": null,
            "right": null,
            "top": null,
            "visibility": null,
            "width": null
          }
        },
        "da42394cc33841e980bd3fde7707c792": {
          "model_module": "@jupyter-widgets/controls",
          "model_name": "ProgressStyleModel",
          "model_module_version": "1.5.0",
          "state": {
            "_model_module": "@jupyter-widgets/controls",
            "_model_module_version": "1.5.0",
            "_model_name": "ProgressStyleModel",
            "_view_count": null,
            "_view_module": "@jupyter-widgets/base",
            "_view_module_version": "1.2.0",
            "_view_name": "StyleView",
            "bar_color": null,
            "description_width": ""
          }
        },
        "e0b2f9adcff74fb0969444df6e72e9cf": {
          "model_module": "@jupyter-widgets/base",
          "model_name": "LayoutModel",
          "model_module_version": "1.2.0",
          "state": {
            "_model_module": "@jupyter-widgets/base",
            "_model_module_version": "1.2.0",
            "_model_name": "LayoutModel",
            "_view_count": null,
            "_view_module": "@jupyter-widgets/base",
            "_view_module_version": "1.2.0",
            "_view_name": "LayoutView",
            "align_content": null,
            "align_items": null,
            "align_self": null,
            "border": null,
            "bottom": null,
            "display": null,
            "flex": null,
            "flex_flow": null,
            "grid_area": null,
            "grid_auto_columns": null,
            "grid_auto_flow": null,
            "grid_auto_rows": null,
            "grid_column": null,
            "grid_gap": null,
            "grid_row": null,
            "grid_template_areas": null,
            "grid_template_columns": null,
            "grid_template_rows": null,
            "height": null,
            "justify_content": null,
            "justify_items": null,
            "left": null,
            "margin": null,
            "max_height": null,
            "max_width": null,
            "min_height": null,
            "min_width": null,
            "object_fit": null,
            "object_position": null,
            "order": null,
            "overflow": null,
            "overflow_x": null,
            "overflow_y": null,
            "padding": null,
            "right": null,
            "top": null,
            "visibility": null,
            "width": null
          }
        },
        "60ce8e911efe46cab1b48cf8c31a77ce": {
          "model_module": "@jupyter-widgets/controls",
          "model_name": "DescriptionStyleModel",
          "model_module_version": "1.5.0",
          "state": {
            "_model_module": "@jupyter-widgets/controls",
            "_model_module_version": "1.5.0",
            "_model_name": "DescriptionStyleModel",
            "_view_count": null,
            "_view_module": "@jupyter-widgets/base",
            "_view_module_version": "1.2.0",
            "_view_name": "StyleView",
            "description_width": ""
          }
        },
        "2fc9efb144db46efbfbd891e9afeabfc": {
          "model_module": "@jupyter-widgets/controls",
          "model_name": "HBoxModel",
          "model_module_version": "1.5.0",
          "state": {
            "_dom_classes": [],
            "_model_module": "@jupyter-widgets/controls",
            "_model_module_version": "1.5.0",
            "_model_name": "HBoxModel",
            "_view_count": null,
            "_view_module": "@jupyter-widgets/controls",
            "_view_module_version": "1.5.0",
            "_view_name": "HBoxView",
            "box_style": "",
            "children": [
              "IPY_MODEL_94eb64b417a145969f2f7677c3f18ef4",
              "IPY_MODEL_7a7eb9c40ae24b1cab9373e5869b07d6",
              "IPY_MODEL_3070975211bd420fb8a71a970e13ccca"
            ],
            "layout": "IPY_MODEL_7946c6490d4d4d82862095497a29406b"
          }
        },
        "94eb64b417a145969f2f7677c3f18ef4": {
          "model_module": "@jupyter-widgets/controls",
          "model_name": "HTMLModel",
          "model_module_version": "1.5.0",
          "state": {
            "_dom_classes": [],
            "_model_module": "@jupyter-widgets/controls",
            "_model_module_version": "1.5.0",
            "_model_name": "HTMLModel",
            "_view_count": null,
            "_view_module": "@jupyter-widgets/controls",
            "_view_module_version": "1.5.0",
            "_view_name": "HTMLView",
            "description": "",
            "description_tooltip": null,
            "layout": "IPY_MODEL_f829c02b9c9d41a4a7ce41a90442c685",
            "placeholder": "​",
            "style": "IPY_MODEL_9d590d0fed544285b6a4197f8cc904ef",
            "value": "Val Loss:0.2045 : 100%"
          }
        },
        "7a7eb9c40ae24b1cab9373e5869b07d6": {
          "model_module": "@jupyter-widgets/controls",
          "model_name": "FloatProgressModel",
          "model_module_version": "1.5.0",
          "state": {
            "_dom_classes": [],
            "_model_module": "@jupyter-widgets/controls",
            "_model_module_version": "1.5.0",
            "_model_name": "FloatProgressModel",
            "_view_count": null,
            "_view_module": "@jupyter-widgets/controls",
            "_view_module_version": "1.5.0",
            "_view_name": "ProgressView",
            "bar_style": "success",
            "description": "",
            "description_tooltip": null,
            "layout": "IPY_MODEL_d81d3a55d7024e12a018ed6da25805d6",
            "max": 58,
            "min": 0,
            "orientation": "horizontal",
            "style": "IPY_MODEL_b7b97554f2b4450f8fc4d4ea3ec4fd51",
            "value": 58
          }
        },
        "3070975211bd420fb8a71a970e13ccca": {
          "model_module": "@jupyter-widgets/controls",
          "model_name": "HTMLModel",
          "model_module_version": "1.5.0",
          "state": {
            "_dom_classes": [],
            "_model_module": "@jupyter-widgets/controls",
            "_model_module_version": "1.5.0",
            "_model_name": "HTMLModel",
            "_view_count": null,
            "_view_module": "@jupyter-widgets/controls",
            "_view_module_version": "1.5.0",
            "_view_name": "HTMLView",
            "description": "",
            "description_tooltip": null,
            "layout": "IPY_MODEL_5baeb2e1b7214a82be6453524bd151d8",
            "placeholder": "​",
            "style": "IPY_MODEL_86c724ca883f4009b89b899ebce9f3e1",
            "value": " 58/58 [00:06&lt;00:00,  9.51it/s]"
          }
        },
        "7946c6490d4d4d82862095497a29406b": {
          "model_module": "@jupyter-widgets/base",
          "model_name": "LayoutModel",
          "model_module_version": "1.2.0",
          "state": {
            "_model_module": "@jupyter-widgets/base",
            "_model_module_version": "1.2.0",
            "_model_name": "LayoutModel",
            "_view_count": null,
            "_view_module": "@jupyter-widgets/base",
            "_view_module_version": "1.2.0",
            "_view_name": "LayoutView",
            "align_content": null,
            "align_items": null,
            "align_self": null,
            "border": null,
            "bottom": null,
            "display": null,
            "flex": null,
            "flex_flow": null,
            "grid_area": null,
            "grid_auto_columns": null,
            "grid_auto_flow": null,
            "grid_auto_rows": null,
            "grid_column": null,
            "grid_gap": null,
            "grid_row": null,
            "grid_template_areas": null,
            "grid_template_columns": null,
            "grid_template_rows": null,
            "height": null,
            "justify_content": null,
            "justify_items": null,
            "left": null,
            "margin": null,
            "max_height": null,
            "max_width": null,
            "min_height": null,
            "min_width": null,
            "object_fit": null,
            "object_position": null,
            "order": null,
            "overflow": null,
            "overflow_x": null,
            "overflow_y": null,
            "padding": null,
            "right": null,
            "top": null,
            "visibility": null,
            "width": null
          }
        },
        "f829c02b9c9d41a4a7ce41a90442c685": {
          "model_module": "@jupyter-widgets/base",
          "model_name": "LayoutModel",
          "model_module_version": "1.2.0",
          "state": {
            "_model_module": "@jupyter-widgets/base",
            "_model_module_version": "1.2.0",
            "_model_name": "LayoutModel",
            "_view_count": null,
            "_view_module": "@jupyter-widgets/base",
            "_view_module_version": "1.2.0",
            "_view_name": "LayoutView",
            "align_content": null,
            "align_items": null,
            "align_self": null,
            "border": null,
            "bottom": null,
            "display": null,
            "flex": null,
            "flex_flow": null,
            "grid_area": null,
            "grid_auto_columns": null,
            "grid_auto_flow": null,
            "grid_auto_rows": null,
            "grid_column": null,
            "grid_gap": null,
            "grid_row": null,
            "grid_template_areas": null,
            "grid_template_columns": null,
            "grid_template_rows": null,
            "height": null,
            "justify_content": null,
            "justify_items": null,
            "left": null,
            "margin": null,
            "max_height": null,
            "max_width": null,
            "min_height": null,
            "min_width": null,
            "object_fit": null,
            "object_position": null,
            "order": null,
            "overflow": null,
            "overflow_x": null,
            "overflow_y": null,
            "padding": null,
            "right": null,
            "top": null,
            "visibility": null,
            "width": null
          }
        },
        "9d590d0fed544285b6a4197f8cc904ef": {
          "model_module": "@jupyter-widgets/controls",
          "model_name": "DescriptionStyleModel",
          "model_module_version": "1.5.0",
          "state": {
            "_model_module": "@jupyter-widgets/controls",
            "_model_module_version": "1.5.0",
            "_model_name": "DescriptionStyleModel",
            "_view_count": null,
            "_view_module": "@jupyter-widgets/base",
            "_view_module_version": "1.2.0",
            "_view_name": "StyleView",
            "description_width": ""
          }
        },
        "d81d3a55d7024e12a018ed6da25805d6": {
          "model_module": "@jupyter-widgets/base",
          "model_name": "LayoutModel",
          "model_module_version": "1.2.0",
          "state": {
            "_model_module": "@jupyter-widgets/base",
            "_model_module_version": "1.2.0",
            "_model_name": "LayoutModel",
            "_view_count": null,
            "_view_module": "@jupyter-widgets/base",
            "_view_module_version": "1.2.0",
            "_view_name": "LayoutView",
            "align_content": null,
            "align_items": null,
            "align_self": null,
            "border": null,
            "bottom": null,
            "display": null,
            "flex": null,
            "flex_flow": null,
            "grid_area": null,
            "grid_auto_columns": null,
            "grid_auto_flow": null,
            "grid_auto_rows": null,
            "grid_column": null,
            "grid_gap": null,
            "grid_row": null,
            "grid_template_areas": null,
            "grid_template_columns": null,
            "grid_template_rows": null,
            "height": null,
            "justify_content": null,
            "justify_items": null,
            "left": null,
            "margin": null,
            "max_height": null,
            "max_width": null,
            "min_height": null,
            "min_width": null,
            "object_fit": null,
            "object_position": null,
            "order": null,
            "overflow": null,
            "overflow_x": null,
            "overflow_y": null,
            "padding": null,
            "right": null,
            "top": null,
            "visibility": null,
            "width": null
          }
        },
        "b7b97554f2b4450f8fc4d4ea3ec4fd51": {
          "model_module": "@jupyter-widgets/controls",
          "model_name": "ProgressStyleModel",
          "model_module_version": "1.5.0",
          "state": {
            "_model_module": "@jupyter-widgets/controls",
            "_model_module_version": "1.5.0",
            "_model_name": "ProgressStyleModel",
            "_view_count": null,
            "_view_module": "@jupyter-widgets/base",
            "_view_module_version": "1.2.0",
            "_view_name": "StyleView",
            "bar_color": null,
            "description_width": ""
          }
        },
        "5baeb2e1b7214a82be6453524bd151d8": {
          "model_module": "@jupyter-widgets/base",
          "model_name": "LayoutModel",
          "model_module_version": "1.2.0",
          "state": {
            "_model_module": "@jupyter-widgets/base",
            "_model_module_version": "1.2.0",
            "_model_name": "LayoutModel",
            "_view_count": null,
            "_view_module": "@jupyter-widgets/base",
            "_view_module_version": "1.2.0",
            "_view_name": "LayoutView",
            "align_content": null,
            "align_items": null,
            "align_self": null,
            "border": null,
            "bottom": null,
            "display": null,
            "flex": null,
            "flex_flow": null,
            "grid_area": null,
            "grid_auto_columns": null,
            "grid_auto_flow": null,
            "grid_auto_rows": null,
            "grid_column": null,
            "grid_gap": null,
            "grid_row": null,
            "grid_template_areas": null,
            "grid_template_columns": null,
            "grid_template_rows": null,
            "height": null,
            "justify_content": null,
            "justify_items": null,
            "left": null,
            "margin": null,
            "max_height": null,
            "max_width": null,
            "min_height": null,
            "min_width": null,
            "object_fit": null,
            "object_position": null,
            "order": null,
            "overflow": null,
            "overflow_x": null,
            "overflow_y": null,
            "padding": null,
            "right": null,
            "top": null,
            "visibility": null,
            "width": null
          }
        },
        "86c724ca883f4009b89b899ebce9f3e1": {
          "model_module": "@jupyter-widgets/controls",
          "model_name": "DescriptionStyleModel",
          "model_module_version": "1.5.0",
          "state": {
            "_model_module": "@jupyter-widgets/controls",
            "_model_module_version": "1.5.0",
            "_model_name": "DescriptionStyleModel",
            "_view_count": null,
            "_view_module": "@jupyter-widgets/base",
            "_view_module_version": "1.2.0",
            "_view_name": "StyleView",
            "description_width": ""
          }
        },
        "07ed34b34b014854bf03be613b5ef14d": {
          "model_module": "@jupyter-widgets/controls",
          "model_name": "HBoxModel",
          "model_module_version": "1.5.0",
          "state": {
            "_dom_classes": [],
            "_model_module": "@jupyter-widgets/controls",
            "_model_module_version": "1.5.0",
            "_model_name": "HBoxModel",
            "_view_count": null,
            "_view_module": "@jupyter-widgets/controls",
            "_view_module_version": "1.5.0",
            "_view_name": "HBoxView",
            "box_style": "",
            "children": [
              "IPY_MODEL_577194ade66941a7ae1d8b028e74eb20",
              "IPY_MODEL_088a4e6d2421449fa916c009dce18796",
              "IPY_MODEL_f5d01e375d66433ebceb10291ef2a011"
            ],
            "layout": "IPY_MODEL_976515eaf1bd47eb9638d211fc2ba29f"
          }
        },
        "577194ade66941a7ae1d8b028e74eb20": {
          "model_module": "@jupyter-widgets/controls",
          "model_name": "HTMLModel",
          "model_module_version": "1.5.0",
          "state": {
            "_dom_classes": [],
            "_model_module": "@jupyter-widgets/controls",
            "_model_module_version": "1.5.0",
            "_model_name": "HTMLModel",
            "_view_count": null,
            "_view_module": "@jupyter-widgets/controls",
            "_view_module_version": "1.5.0",
            "_view_name": "HTMLView",
            "description": "",
            "description_tooltip": null,
            "layout": "IPY_MODEL_27bbd119784b45b58513a2803f2ee21c",
            "placeholder": "​",
            "style": "IPY_MODEL_adcfc0fe9c9341d08301f46305eefe58",
            "value": "Train - Loss:0.1723 : 100%"
          }
        },
        "088a4e6d2421449fa916c009dce18796": {
          "model_module": "@jupyter-widgets/controls",
          "model_name": "FloatProgressModel",
          "model_module_version": "1.5.0",
          "state": {
            "_dom_classes": [],
            "_model_module": "@jupyter-widgets/controls",
            "_model_module_version": "1.5.0",
            "_model_name": "FloatProgressModel",
            "_view_count": null,
            "_view_module": "@jupyter-widgets/controls",
            "_view_module_version": "1.5.0",
            "_view_name": "ProgressView",
            "bar_style": "success",
            "description": "",
            "description_tooltip": null,
            "layout": "IPY_MODEL_f96823a42f834e9ea16bfe2c0530e410",
            "max": 642,
            "min": 0,
            "orientation": "horizontal",
            "style": "IPY_MODEL_361786a30c724c39a6e2e733b53a79c4",
            "value": 642
          }
        },
        "f5d01e375d66433ebceb10291ef2a011": {
          "model_module": "@jupyter-widgets/controls",
          "model_name": "HTMLModel",
          "model_module_version": "1.5.0",
          "state": {
            "_dom_classes": [],
            "_model_module": "@jupyter-widgets/controls",
            "_model_module_version": "1.5.0",
            "_model_name": "HTMLModel",
            "_view_count": null,
            "_view_module": "@jupyter-widgets/controls",
            "_view_module_version": "1.5.0",
            "_view_name": "HTMLView",
            "description": "",
            "description_tooltip": null,
            "layout": "IPY_MODEL_536556be3693466a80822b64f0317632",
            "placeholder": "​",
            "style": "IPY_MODEL_c4fe14def37e48209863ce235cbdd2da",
            "value": " 642/642 [02:37&lt;00:00,  4.44it/s]"
          }
        },
        "976515eaf1bd47eb9638d211fc2ba29f": {
          "model_module": "@jupyter-widgets/base",
          "model_name": "LayoutModel",
          "model_module_version": "1.2.0",
          "state": {
            "_model_module": "@jupyter-widgets/base",
            "_model_module_version": "1.2.0",
            "_model_name": "LayoutModel",
            "_view_count": null,
            "_view_module": "@jupyter-widgets/base",
            "_view_module_version": "1.2.0",
            "_view_name": "LayoutView",
            "align_content": null,
            "align_items": null,
            "align_self": null,
            "border": null,
            "bottom": null,
            "display": null,
            "flex": null,
            "flex_flow": null,
            "grid_area": null,
            "grid_auto_columns": null,
            "grid_auto_flow": null,
            "grid_auto_rows": null,
            "grid_column": null,
            "grid_gap": null,
            "grid_row": null,
            "grid_template_areas": null,
            "grid_template_columns": null,
            "grid_template_rows": null,
            "height": null,
            "justify_content": null,
            "justify_items": null,
            "left": null,
            "margin": null,
            "max_height": null,
            "max_width": null,
            "min_height": null,
            "min_width": null,
            "object_fit": null,
            "object_position": null,
            "order": null,
            "overflow": null,
            "overflow_x": null,
            "overflow_y": null,
            "padding": null,
            "right": null,
            "top": null,
            "visibility": null,
            "width": null
          }
        },
        "27bbd119784b45b58513a2803f2ee21c": {
          "model_module": "@jupyter-widgets/base",
          "model_name": "LayoutModel",
          "model_module_version": "1.2.0",
          "state": {
            "_model_module": "@jupyter-widgets/base",
            "_model_module_version": "1.2.0",
            "_model_name": "LayoutModel",
            "_view_count": null,
            "_view_module": "@jupyter-widgets/base",
            "_view_module_version": "1.2.0",
            "_view_name": "LayoutView",
            "align_content": null,
            "align_items": null,
            "align_self": null,
            "border": null,
            "bottom": null,
            "display": null,
            "flex": null,
            "flex_flow": null,
            "grid_area": null,
            "grid_auto_columns": null,
            "grid_auto_flow": null,
            "grid_auto_rows": null,
            "grid_column": null,
            "grid_gap": null,
            "grid_row": null,
            "grid_template_areas": null,
            "grid_template_columns": null,
            "grid_template_rows": null,
            "height": null,
            "justify_content": null,
            "justify_items": null,
            "left": null,
            "margin": null,
            "max_height": null,
            "max_width": null,
            "min_height": null,
            "min_width": null,
            "object_fit": null,
            "object_position": null,
            "order": null,
            "overflow": null,
            "overflow_x": null,
            "overflow_y": null,
            "padding": null,
            "right": null,
            "top": null,
            "visibility": null,
            "width": null
          }
        },
        "adcfc0fe9c9341d08301f46305eefe58": {
          "model_module": "@jupyter-widgets/controls",
          "model_name": "DescriptionStyleModel",
          "model_module_version": "1.5.0",
          "state": {
            "_model_module": "@jupyter-widgets/controls",
            "_model_module_version": "1.5.0",
            "_model_name": "DescriptionStyleModel",
            "_view_count": null,
            "_view_module": "@jupyter-widgets/base",
            "_view_module_version": "1.2.0",
            "_view_name": "StyleView",
            "description_width": ""
          }
        },
        "f96823a42f834e9ea16bfe2c0530e410": {
          "model_module": "@jupyter-widgets/base",
          "model_name": "LayoutModel",
          "model_module_version": "1.2.0",
          "state": {
            "_model_module": "@jupyter-widgets/base",
            "_model_module_version": "1.2.0",
            "_model_name": "LayoutModel",
            "_view_count": null,
            "_view_module": "@jupyter-widgets/base",
            "_view_module_version": "1.2.0",
            "_view_name": "LayoutView",
            "align_content": null,
            "align_items": null,
            "align_self": null,
            "border": null,
            "bottom": null,
            "display": null,
            "flex": null,
            "flex_flow": null,
            "grid_area": null,
            "grid_auto_columns": null,
            "grid_auto_flow": null,
            "grid_auto_rows": null,
            "grid_column": null,
            "grid_gap": null,
            "grid_row": null,
            "grid_template_areas": null,
            "grid_template_columns": null,
            "grid_template_rows": null,
            "height": null,
            "justify_content": null,
            "justify_items": null,
            "left": null,
            "margin": null,
            "max_height": null,
            "max_width": null,
            "min_height": null,
            "min_width": null,
            "object_fit": null,
            "object_position": null,
            "order": null,
            "overflow": null,
            "overflow_x": null,
            "overflow_y": null,
            "padding": null,
            "right": null,
            "top": null,
            "visibility": null,
            "width": null
          }
        },
        "361786a30c724c39a6e2e733b53a79c4": {
          "model_module": "@jupyter-widgets/controls",
          "model_name": "ProgressStyleModel",
          "model_module_version": "1.5.0",
          "state": {
            "_model_module": "@jupyter-widgets/controls",
            "_model_module_version": "1.5.0",
            "_model_name": "ProgressStyleModel",
            "_view_count": null,
            "_view_module": "@jupyter-widgets/base",
            "_view_module_version": "1.2.0",
            "_view_name": "StyleView",
            "bar_color": null,
            "description_width": ""
          }
        },
        "536556be3693466a80822b64f0317632": {
          "model_module": "@jupyter-widgets/base",
          "model_name": "LayoutModel",
          "model_module_version": "1.2.0",
          "state": {
            "_model_module": "@jupyter-widgets/base",
            "_model_module_version": "1.2.0",
            "_model_name": "LayoutModel",
            "_view_count": null,
            "_view_module": "@jupyter-widgets/base",
            "_view_module_version": "1.2.0",
            "_view_name": "LayoutView",
            "align_content": null,
            "align_items": null,
            "align_self": null,
            "border": null,
            "bottom": null,
            "display": null,
            "flex": null,
            "flex_flow": null,
            "grid_area": null,
            "grid_auto_columns": null,
            "grid_auto_flow": null,
            "grid_auto_rows": null,
            "grid_column": null,
            "grid_gap": null,
            "grid_row": null,
            "grid_template_areas": null,
            "grid_template_columns": null,
            "grid_template_rows": null,
            "height": null,
            "justify_content": null,
            "justify_items": null,
            "left": null,
            "margin": null,
            "max_height": null,
            "max_width": null,
            "min_height": null,
            "min_width": null,
            "object_fit": null,
            "object_position": null,
            "order": null,
            "overflow": null,
            "overflow_x": null,
            "overflow_y": null,
            "padding": null,
            "right": null,
            "top": null,
            "visibility": null,
            "width": null
          }
        },
        "c4fe14def37e48209863ce235cbdd2da": {
          "model_module": "@jupyter-widgets/controls",
          "model_name": "DescriptionStyleModel",
          "model_module_version": "1.5.0",
          "state": {
            "_model_module": "@jupyter-widgets/controls",
            "_model_module_version": "1.5.0",
            "_model_name": "DescriptionStyleModel",
            "_view_count": null,
            "_view_module": "@jupyter-widgets/base",
            "_view_module_version": "1.2.0",
            "_view_name": "StyleView",
            "description_width": ""
          }
        },
        "62ad3999215d4f8c828abeee412ebe51": {
          "model_module": "@jupyter-widgets/controls",
          "model_name": "HBoxModel",
          "model_module_version": "1.5.0",
          "state": {
            "_dom_classes": [],
            "_model_module": "@jupyter-widgets/controls",
            "_model_module_version": "1.5.0",
            "_model_name": "HBoxModel",
            "_view_count": null,
            "_view_module": "@jupyter-widgets/controls",
            "_view_module_version": "1.5.0",
            "_view_name": "HBoxView",
            "box_style": "",
            "children": [
              "IPY_MODEL_2d12d89b29534796aba09804a89747ad",
              "IPY_MODEL_adf1e1b0bb5d401c8e5e99738564734e",
              "IPY_MODEL_6f886eeceded46efbb5c6b20d2047e9a"
            ],
            "layout": "IPY_MODEL_4665d9002b824dd6b2fc396156de61d1"
          }
        },
        "2d12d89b29534796aba09804a89747ad": {
          "model_module": "@jupyter-widgets/controls",
          "model_name": "HTMLModel",
          "model_module_version": "1.5.0",
          "state": {
            "_dom_classes": [],
            "_model_module": "@jupyter-widgets/controls",
            "_model_module_version": "1.5.0",
            "_model_name": "HTMLModel",
            "_view_count": null,
            "_view_module": "@jupyter-widgets/controls",
            "_view_module_version": "1.5.0",
            "_view_name": "HTMLView",
            "description": "",
            "description_tooltip": null,
            "layout": "IPY_MODEL_9a3807c00a5e4c9f93dc530eecc8c07f",
            "placeholder": "​",
            "style": "IPY_MODEL_f483695bd36e42148e29c54ad44e225a",
            "value": "Val Loss:0.2030 : 100%"
          }
        },
        "adf1e1b0bb5d401c8e5e99738564734e": {
          "model_module": "@jupyter-widgets/controls",
          "model_name": "FloatProgressModel",
          "model_module_version": "1.5.0",
          "state": {
            "_dom_classes": [],
            "_model_module": "@jupyter-widgets/controls",
            "_model_module_version": "1.5.0",
            "_model_name": "FloatProgressModel",
            "_view_count": null,
            "_view_module": "@jupyter-widgets/controls",
            "_view_module_version": "1.5.0",
            "_view_name": "ProgressView",
            "bar_style": "success",
            "description": "",
            "description_tooltip": null,
            "layout": "IPY_MODEL_b1a616dc97e34b8cba1634891a96fa0c",
            "max": 58,
            "min": 0,
            "orientation": "horizontal",
            "style": "IPY_MODEL_c294c7e777c349f4a3dec81423f0298c",
            "value": 58
          }
        },
        "6f886eeceded46efbb5c6b20d2047e9a": {
          "model_module": "@jupyter-widgets/controls",
          "model_name": "HTMLModel",
          "model_module_version": "1.5.0",
          "state": {
            "_dom_classes": [],
            "_model_module": "@jupyter-widgets/controls",
            "_model_module_version": "1.5.0",
            "_model_name": "HTMLModel",
            "_view_count": null,
            "_view_module": "@jupyter-widgets/controls",
            "_view_module_version": "1.5.0",
            "_view_name": "HTMLView",
            "description": "",
            "description_tooltip": null,
            "layout": "IPY_MODEL_1756fee6c83f415cb25db2d5b3f74220",
            "placeholder": "​",
            "style": "IPY_MODEL_df8e1ce942434dcd973e3175ca4d1e72",
            "value": " 58/58 [00:06&lt;00:00,  9.52it/s]"
          }
        },
        "4665d9002b824dd6b2fc396156de61d1": {
          "model_module": "@jupyter-widgets/base",
          "model_name": "LayoutModel",
          "model_module_version": "1.2.0",
          "state": {
            "_model_module": "@jupyter-widgets/base",
            "_model_module_version": "1.2.0",
            "_model_name": "LayoutModel",
            "_view_count": null,
            "_view_module": "@jupyter-widgets/base",
            "_view_module_version": "1.2.0",
            "_view_name": "LayoutView",
            "align_content": null,
            "align_items": null,
            "align_self": null,
            "border": null,
            "bottom": null,
            "display": null,
            "flex": null,
            "flex_flow": null,
            "grid_area": null,
            "grid_auto_columns": null,
            "grid_auto_flow": null,
            "grid_auto_rows": null,
            "grid_column": null,
            "grid_gap": null,
            "grid_row": null,
            "grid_template_areas": null,
            "grid_template_columns": null,
            "grid_template_rows": null,
            "height": null,
            "justify_content": null,
            "justify_items": null,
            "left": null,
            "margin": null,
            "max_height": null,
            "max_width": null,
            "min_height": null,
            "min_width": null,
            "object_fit": null,
            "object_position": null,
            "order": null,
            "overflow": null,
            "overflow_x": null,
            "overflow_y": null,
            "padding": null,
            "right": null,
            "top": null,
            "visibility": null,
            "width": null
          }
        },
        "9a3807c00a5e4c9f93dc530eecc8c07f": {
          "model_module": "@jupyter-widgets/base",
          "model_name": "LayoutModel",
          "model_module_version": "1.2.0",
          "state": {
            "_model_module": "@jupyter-widgets/base",
            "_model_module_version": "1.2.0",
            "_model_name": "LayoutModel",
            "_view_count": null,
            "_view_module": "@jupyter-widgets/base",
            "_view_module_version": "1.2.0",
            "_view_name": "LayoutView",
            "align_content": null,
            "align_items": null,
            "align_self": null,
            "border": null,
            "bottom": null,
            "display": null,
            "flex": null,
            "flex_flow": null,
            "grid_area": null,
            "grid_auto_columns": null,
            "grid_auto_flow": null,
            "grid_auto_rows": null,
            "grid_column": null,
            "grid_gap": null,
            "grid_row": null,
            "grid_template_areas": null,
            "grid_template_columns": null,
            "grid_template_rows": null,
            "height": null,
            "justify_content": null,
            "justify_items": null,
            "left": null,
            "margin": null,
            "max_height": null,
            "max_width": null,
            "min_height": null,
            "min_width": null,
            "object_fit": null,
            "object_position": null,
            "order": null,
            "overflow": null,
            "overflow_x": null,
            "overflow_y": null,
            "padding": null,
            "right": null,
            "top": null,
            "visibility": null,
            "width": null
          }
        },
        "f483695bd36e42148e29c54ad44e225a": {
          "model_module": "@jupyter-widgets/controls",
          "model_name": "DescriptionStyleModel",
          "model_module_version": "1.5.0",
          "state": {
            "_model_module": "@jupyter-widgets/controls",
            "_model_module_version": "1.5.0",
            "_model_name": "DescriptionStyleModel",
            "_view_count": null,
            "_view_module": "@jupyter-widgets/base",
            "_view_module_version": "1.2.0",
            "_view_name": "StyleView",
            "description_width": ""
          }
        },
        "b1a616dc97e34b8cba1634891a96fa0c": {
          "model_module": "@jupyter-widgets/base",
          "model_name": "LayoutModel",
          "model_module_version": "1.2.0",
          "state": {
            "_model_module": "@jupyter-widgets/base",
            "_model_module_version": "1.2.0",
            "_model_name": "LayoutModel",
            "_view_count": null,
            "_view_module": "@jupyter-widgets/base",
            "_view_module_version": "1.2.0",
            "_view_name": "LayoutView",
            "align_content": null,
            "align_items": null,
            "align_self": null,
            "border": null,
            "bottom": null,
            "display": null,
            "flex": null,
            "flex_flow": null,
            "grid_area": null,
            "grid_auto_columns": null,
            "grid_auto_flow": null,
            "grid_auto_rows": null,
            "grid_column": null,
            "grid_gap": null,
            "grid_row": null,
            "grid_template_areas": null,
            "grid_template_columns": null,
            "grid_template_rows": null,
            "height": null,
            "justify_content": null,
            "justify_items": null,
            "left": null,
            "margin": null,
            "max_height": null,
            "max_width": null,
            "min_height": null,
            "min_width": null,
            "object_fit": null,
            "object_position": null,
            "order": null,
            "overflow": null,
            "overflow_x": null,
            "overflow_y": null,
            "padding": null,
            "right": null,
            "top": null,
            "visibility": null,
            "width": null
          }
        },
        "c294c7e777c349f4a3dec81423f0298c": {
          "model_module": "@jupyter-widgets/controls",
          "model_name": "ProgressStyleModel",
          "model_module_version": "1.5.0",
          "state": {
            "_model_module": "@jupyter-widgets/controls",
            "_model_module_version": "1.5.0",
            "_model_name": "ProgressStyleModel",
            "_view_count": null,
            "_view_module": "@jupyter-widgets/base",
            "_view_module_version": "1.2.0",
            "_view_name": "StyleView",
            "bar_color": null,
            "description_width": ""
          }
        },
        "1756fee6c83f415cb25db2d5b3f74220": {
          "model_module": "@jupyter-widgets/base",
          "model_name": "LayoutModel",
          "model_module_version": "1.2.0",
          "state": {
            "_model_module": "@jupyter-widgets/base",
            "_model_module_version": "1.2.0",
            "_model_name": "LayoutModel",
            "_view_count": null,
            "_view_module": "@jupyter-widgets/base",
            "_view_module_version": "1.2.0",
            "_view_name": "LayoutView",
            "align_content": null,
            "align_items": null,
            "align_self": null,
            "border": null,
            "bottom": null,
            "display": null,
            "flex": null,
            "flex_flow": null,
            "grid_area": null,
            "grid_auto_columns": null,
            "grid_auto_flow": null,
            "grid_auto_rows": null,
            "grid_column": null,
            "grid_gap": null,
            "grid_row": null,
            "grid_template_areas": null,
            "grid_template_columns": null,
            "grid_template_rows": null,
            "height": null,
            "justify_content": null,
            "justify_items": null,
            "left": null,
            "margin": null,
            "max_height": null,
            "max_width": null,
            "min_height": null,
            "min_width": null,
            "object_fit": null,
            "object_position": null,
            "order": null,
            "overflow": null,
            "overflow_x": null,
            "overflow_y": null,
            "padding": null,
            "right": null,
            "top": null,
            "visibility": null,
            "width": null
          }
        },
        "df8e1ce942434dcd973e3175ca4d1e72": {
          "model_module": "@jupyter-widgets/controls",
          "model_name": "DescriptionStyleModel",
          "model_module_version": "1.5.0",
          "state": {
            "_model_module": "@jupyter-widgets/controls",
            "_model_module_version": "1.5.0",
            "_model_name": "DescriptionStyleModel",
            "_view_count": null,
            "_view_module": "@jupyter-widgets/base",
            "_view_module_version": "1.2.0",
            "_view_name": "StyleView",
            "description_width": ""
          }
        },
        "acfe0febe9aa4ccaba89f49d4c877caa": {
          "model_module": "@jupyter-widgets/controls",
          "model_name": "HBoxModel",
          "model_module_version": "1.5.0",
          "state": {
            "_dom_classes": [],
            "_model_module": "@jupyter-widgets/controls",
            "_model_module_version": "1.5.0",
            "_model_name": "HBoxModel",
            "_view_count": null,
            "_view_module": "@jupyter-widgets/controls",
            "_view_module_version": "1.5.0",
            "_view_name": "HBoxView",
            "box_style": "",
            "children": [
              "IPY_MODEL_fbd1e7be0697484ea3fb12cbf64b5ed1",
              "IPY_MODEL_2ae1b13cf3394b7b9dddaad57480257c",
              "IPY_MODEL_eac8ea976c144a11bb86a26f72bc3a04"
            ],
            "layout": "IPY_MODEL_ff55289d662249fbbf854dd57b5e88fc"
          }
        },
        "fbd1e7be0697484ea3fb12cbf64b5ed1": {
          "model_module": "@jupyter-widgets/controls",
          "model_name": "HTMLModel",
          "model_module_version": "1.5.0",
          "state": {
            "_dom_classes": [],
            "_model_module": "@jupyter-widgets/controls",
            "_model_module_version": "1.5.0",
            "_model_name": "HTMLModel",
            "_view_count": null,
            "_view_module": "@jupyter-widgets/controls",
            "_view_module_version": "1.5.0",
            "_view_name": "HTMLView",
            "description": "",
            "description_tooltip": null,
            "layout": "IPY_MODEL_4d5e4fb0d1a04a13b5931f652f746deb",
            "placeholder": "​",
            "style": "IPY_MODEL_af05f8675f4d4b5a8794e8610af0acc7",
            "value": "Train - Loss:0.1751 : 100%"
          }
        },
        "2ae1b13cf3394b7b9dddaad57480257c": {
          "model_module": "@jupyter-widgets/controls",
          "model_name": "FloatProgressModel",
          "model_module_version": "1.5.0",
          "state": {
            "_dom_classes": [],
            "_model_module": "@jupyter-widgets/controls",
            "_model_module_version": "1.5.0",
            "_model_name": "FloatProgressModel",
            "_view_count": null,
            "_view_module": "@jupyter-widgets/controls",
            "_view_module_version": "1.5.0",
            "_view_name": "ProgressView",
            "bar_style": "success",
            "description": "",
            "description_tooltip": null,
            "layout": "IPY_MODEL_d9ef508acca741b4bf0902fc85c8ef90",
            "max": 642,
            "min": 0,
            "orientation": "horizontal",
            "style": "IPY_MODEL_09785f16131e42b8a79343f6bb501ef8",
            "value": 642
          }
        },
        "eac8ea976c144a11bb86a26f72bc3a04": {
          "model_module": "@jupyter-widgets/controls",
          "model_name": "HTMLModel",
          "model_module_version": "1.5.0",
          "state": {
            "_dom_classes": [],
            "_model_module": "@jupyter-widgets/controls",
            "_model_module_version": "1.5.0",
            "_model_name": "HTMLModel",
            "_view_count": null,
            "_view_module": "@jupyter-widgets/controls",
            "_view_module_version": "1.5.0",
            "_view_name": "HTMLView",
            "description": "",
            "description_tooltip": null,
            "layout": "IPY_MODEL_d08e39ba8b9442e199e553cc026fe587",
            "placeholder": "​",
            "style": "IPY_MODEL_e64856ec3c6c42fc8211df3815aa6d58",
            "value": " 642/642 [02:37&lt;00:00,  4.46it/s]"
          }
        },
        "ff55289d662249fbbf854dd57b5e88fc": {
          "model_module": "@jupyter-widgets/base",
          "model_name": "LayoutModel",
          "model_module_version": "1.2.0",
          "state": {
            "_model_module": "@jupyter-widgets/base",
            "_model_module_version": "1.2.0",
            "_model_name": "LayoutModel",
            "_view_count": null,
            "_view_module": "@jupyter-widgets/base",
            "_view_module_version": "1.2.0",
            "_view_name": "LayoutView",
            "align_content": null,
            "align_items": null,
            "align_self": null,
            "border": null,
            "bottom": null,
            "display": null,
            "flex": null,
            "flex_flow": null,
            "grid_area": null,
            "grid_auto_columns": null,
            "grid_auto_flow": null,
            "grid_auto_rows": null,
            "grid_column": null,
            "grid_gap": null,
            "grid_row": null,
            "grid_template_areas": null,
            "grid_template_columns": null,
            "grid_template_rows": null,
            "height": null,
            "justify_content": null,
            "justify_items": null,
            "left": null,
            "margin": null,
            "max_height": null,
            "max_width": null,
            "min_height": null,
            "min_width": null,
            "object_fit": null,
            "object_position": null,
            "order": null,
            "overflow": null,
            "overflow_x": null,
            "overflow_y": null,
            "padding": null,
            "right": null,
            "top": null,
            "visibility": null,
            "width": null
          }
        },
        "4d5e4fb0d1a04a13b5931f652f746deb": {
          "model_module": "@jupyter-widgets/base",
          "model_name": "LayoutModel",
          "model_module_version": "1.2.0",
          "state": {
            "_model_module": "@jupyter-widgets/base",
            "_model_module_version": "1.2.0",
            "_model_name": "LayoutModel",
            "_view_count": null,
            "_view_module": "@jupyter-widgets/base",
            "_view_module_version": "1.2.0",
            "_view_name": "LayoutView",
            "align_content": null,
            "align_items": null,
            "align_self": null,
            "border": null,
            "bottom": null,
            "display": null,
            "flex": null,
            "flex_flow": null,
            "grid_area": null,
            "grid_auto_columns": null,
            "grid_auto_flow": null,
            "grid_auto_rows": null,
            "grid_column": null,
            "grid_gap": null,
            "grid_row": null,
            "grid_template_areas": null,
            "grid_template_columns": null,
            "grid_template_rows": null,
            "height": null,
            "justify_content": null,
            "justify_items": null,
            "left": null,
            "margin": null,
            "max_height": null,
            "max_width": null,
            "min_height": null,
            "min_width": null,
            "object_fit": null,
            "object_position": null,
            "order": null,
            "overflow": null,
            "overflow_x": null,
            "overflow_y": null,
            "padding": null,
            "right": null,
            "top": null,
            "visibility": null,
            "width": null
          }
        },
        "af05f8675f4d4b5a8794e8610af0acc7": {
          "model_module": "@jupyter-widgets/controls",
          "model_name": "DescriptionStyleModel",
          "model_module_version": "1.5.0",
          "state": {
            "_model_module": "@jupyter-widgets/controls",
            "_model_module_version": "1.5.0",
            "_model_name": "DescriptionStyleModel",
            "_view_count": null,
            "_view_module": "@jupyter-widgets/base",
            "_view_module_version": "1.2.0",
            "_view_name": "StyleView",
            "description_width": ""
          }
        },
        "d9ef508acca741b4bf0902fc85c8ef90": {
          "model_module": "@jupyter-widgets/base",
          "model_name": "LayoutModel",
          "model_module_version": "1.2.0",
          "state": {
            "_model_module": "@jupyter-widgets/base",
            "_model_module_version": "1.2.0",
            "_model_name": "LayoutModel",
            "_view_count": null,
            "_view_module": "@jupyter-widgets/base",
            "_view_module_version": "1.2.0",
            "_view_name": "LayoutView",
            "align_content": null,
            "align_items": null,
            "align_self": null,
            "border": null,
            "bottom": null,
            "display": null,
            "flex": null,
            "flex_flow": null,
            "grid_area": null,
            "grid_auto_columns": null,
            "grid_auto_flow": null,
            "grid_auto_rows": null,
            "grid_column": null,
            "grid_gap": null,
            "grid_row": null,
            "grid_template_areas": null,
            "grid_template_columns": null,
            "grid_template_rows": null,
            "height": null,
            "justify_content": null,
            "justify_items": null,
            "left": null,
            "margin": null,
            "max_height": null,
            "max_width": null,
            "min_height": null,
            "min_width": null,
            "object_fit": null,
            "object_position": null,
            "order": null,
            "overflow": null,
            "overflow_x": null,
            "overflow_y": null,
            "padding": null,
            "right": null,
            "top": null,
            "visibility": null,
            "width": null
          }
        },
        "09785f16131e42b8a79343f6bb501ef8": {
          "model_module": "@jupyter-widgets/controls",
          "model_name": "ProgressStyleModel",
          "model_module_version": "1.5.0",
          "state": {
            "_model_module": "@jupyter-widgets/controls",
            "_model_module_version": "1.5.0",
            "_model_name": "ProgressStyleModel",
            "_view_count": null,
            "_view_module": "@jupyter-widgets/base",
            "_view_module_version": "1.2.0",
            "_view_name": "StyleView",
            "bar_color": null,
            "description_width": ""
          }
        },
        "d08e39ba8b9442e199e553cc026fe587": {
          "model_module": "@jupyter-widgets/base",
          "model_name": "LayoutModel",
          "model_module_version": "1.2.0",
          "state": {
            "_model_module": "@jupyter-widgets/base",
            "_model_module_version": "1.2.0",
            "_model_name": "LayoutModel",
            "_view_count": null,
            "_view_module": "@jupyter-widgets/base",
            "_view_module_version": "1.2.0",
            "_view_name": "LayoutView",
            "align_content": null,
            "align_items": null,
            "align_self": null,
            "border": null,
            "bottom": null,
            "display": null,
            "flex": null,
            "flex_flow": null,
            "grid_area": null,
            "grid_auto_columns": null,
            "grid_auto_flow": null,
            "grid_auto_rows": null,
            "grid_column": null,
            "grid_gap": null,
            "grid_row": null,
            "grid_template_areas": null,
            "grid_template_columns": null,
            "grid_template_rows": null,
            "height": null,
            "justify_content": null,
            "justify_items": null,
            "left": null,
            "margin": null,
            "max_height": null,
            "max_width": null,
            "min_height": null,
            "min_width": null,
            "object_fit": null,
            "object_position": null,
            "order": null,
            "overflow": null,
            "overflow_x": null,
            "overflow_y": null,
            "padding": null,
            "right": null,
            "top": null,
            "visibility": null,
            "width": null
          }
        },
        "e64856ec3c6c42fc8211df3815aa6d58": {
          "model_module": "@jupyter-widgets/controls",
          "model_name": "DescriptionStyleModel",
          "model_module_version": "1.5.0",
          "state": {
            "_model_module": "@jupyter-widgets/controls",
            "_model_module_version": "1.5.0",
            "_model_name": "DescriptionStyleModel",
            "_view_count": null,
            "_view_module": "@jupyter-widgets/base",
            "_view_module_version": "1.2.0",
            "_view_name": "StyleView",
            "description_width": ""
          }
        },
        "1b5bb8874c4846bfbfc09c2031f0c368": {
          "model_module": "@jupyter-widgets/controls",
          "model_name": "HBoxModel",
          "model_module_version": "1.5.0",
          "state": {
            "_dom_classes": [],
            "_model_module": "@jupyter-widgets/controls",
            "_model_module_version": "1.5.0",
            "_model_name": "HBoxModel",
            "_view_count": null,
            "_view_module": "@jupyter-widgets/controls",
            "_view_module_version": "1.5.0",
            "_view_name": "HBoxView",
            "box_style": "",
            "children": [
              "IPY_MODEL_30886e5aa0634d58840c9a4b81a43c9c",
              "IPY_MODEL_997371bbb9ea441cae4783853b5b61b3",
              "IPY_MODEL_adf7177a829a44c2b83eba8b0a5e6227"
            ],
            "layout": "IPY_MODEL_da0df02e622842cab2fd190eea8414b7"
          }
        },
        "30886e5aa0634d58840c9a4b81a43c9c": {
          "model_module": "@jupyter-widgets/controls",
          "model_name": "HTMLModel",
          "model_module_version": "1.5.0",
          "state": {
            "_dom_classes": [],
            "_model_module": "@jupyter-widgets/controls",
            "_model_module_version": "1.5.0",
            "_model_name": "HTMLModel",
            "_view_count": null,
            "_view_module": "@jupyter-widgets/controls",
            "_view_module_version": "1.5.0",
            "_view_name": "HTMLView",
            "description": "",
            "description_tooltip": null,
            "layout": "IPY_MODEL_5c06eefac7ea4a109d71bbf87c27df72",
            "placeholder": "​",
            "style": "IPY_MODEL_e2e2ce4b4b654a1da7d2f17db5ffc443",
            "value": "Val Loss:0.1935 : 100%"
          }
        },
        "997371bbb9ea441cae4783853b5b61b3": {
          "model_module": "@jupyter-widgets/controls",
          "model_name": "FloatProgressModel",
          "model_module_version": "1.5.0",
          "state": {
            "_dom_classes": [],
            "_model_module": "@jupyter-widgets/controls",
            "_model_module_version": "1.5.0",
            "_model_name": "FloatProgressModel",
            "_view_count": null,
            "_view_module": "@jupyter-widgets/controls",
            "_view_module_version": "1.5.0",
            "_view_name": "ProgressView",
            "bar_style": "success",
            "description": "",
            "description_tooltip": null,
            "layout": "IPY_MODEL_6fa10d206c0c48a8b4cbd603c72c3fc9",
            "max": 58,
            "min": 0,
            "orientation": "horizontal",
            "style": "IPY_MODEL_7c979fbf7caa4a418f2624150dd9e1d5",
            "value": 58
          }
        },
        "adf7177a829a44c2b83eba8b0a5e6227": {
          "model_module": "@jupyter-widgets/controls",
          "model_name": "HTMLModel",
          "model_module_version": "1.5.0",
          "state": {
            "_dom_classes": [],
            "_model_module": "@jupyter-widgets/controls",
            "_model_module_version": "1.5.0",
            "_model_name": "HTMLModel",
            "_view_count": null,
            "_view_module": "@jupyter-widgets/controls",
            "_view_module_version": "1.5.0",
            "_view_name": "HTMLView",
            "description": "",
            "description_tooltip": null,
            "layout": "IPY_MODEL_54935b59a6274a72a964c4ec5f46fd3a",
            "placeholder": "​",
            "style": "IPY_MODEL_e57f27521a6b42d9b98801b5c2f2cfd8",
            "value": " 58/58 [00:06&lt;00:00,  9.39it/s]"
          }
        },
        "da0df02e622842cab2fd190eea8414b7": {
          "model_module": "@jupyter-widgets/base",
          "model_name": "LayoutModel",
          "model_module_version": "1.2.0",
          "state": {
            "_model_module": "@jupyter-widgets/base",
            "_model_module_version": "1.2.0",
            "_model_name": "LayoutModel",
            "_view_count": null,
            "_view_module": "@jupyter-widgets/base",
            "_view_module_version": "1.2.0",
            "_view_name": "LayoutView",
            "align_content": null,
            "align_items": null,
            "align_self": null,
            "border": null,
            "bottom": null,
            "display": null,
            "flex": null,
            "flex_flow": null,
            "grid_area": null,
            "grid_auto_columns": null,
            "grid_auto_flow": null,
            "grid_auto_rows": null,
            "grid_column": null,
            "grid_gap": null,
            "grid_row": null,
            "grid_template_areas": null,
            "grid_template_columns": null,
            "grid_template_rows": null,
            "height": null,
            "justify_content": null,
            "justify_items": null,
            "left": null,
            "margin": null,
            "max_height": null,
            "max_width": null,
            "min_height": null,
            "min_width": null,
            "object_fit": null,
            "object_position": null,
            "order": null,
            "overflow": null,
            "overflow_x": null,
            "overflow_y": null,
            "padding": null,
            "right": null,
            "top": null,
            "visibility": null,
            "width": null
          }
        },
        "5c06eefac7ea4a109d71bbf87c27df72": {
          "model_module": "@jupyter-widgets/base",
          "model_name": "LayoutModel",
          "model_module_version": "1.2.0",
          "state": {
            "_model_module": "@jupyter-widgets/base",
            "_model_module_version": "1.2.0",
            "_model_name": "LayoutModel",
            "_view_count": null,
            "_view_module": "@jupyter-widgets/base",
            "_view_module_version": "1.2.0",
            "_view_name": "LayoutView",
            "align_content": null,
            "align_items": null,
            "align_self": null,
            "border": null,
            "bottom": null,
            "display": null,
            "flex": null,
            "flex_flow": null,
            "grid_area": null,
            "grid_auto_columns": null,
            "grid_auto_flow": null,
            "grid_auto_rows": null,
            "grid_column": null,
            "grid_gap": null,
            "grid_row": null,
            "grid_template_areas": null,
            "grid_template_columns": null,
            "grid_template_rows": null,
            "height": null,
            "justify_content": null,
            "justify_items": null,
            "left": null,
            "margin": null,
            "max_height": null,
            "max_width": null,
            "min_height": null,
            "min_width": null,
            "object_fit": null,
            "object_position": null,
            "order": null,
            "overflow": null,
            "overflow_x": null,
            "overflow_y": null,
            "padding": null,
            "right": null,
            "top": null,
            "visibility": null,
            "width": null
          }
        },
        "e2e2ce4b4b654a1da7d2f17db5ffc443": {
          "model_module": "@jupyter-widgets/controls",
          "model_name": "DescriptionStyleModel",
          "model_module_version": "1.5.0",
          "state": {
            "_model_module": "@jupyter-widgets/controls",
            "_model_module_version": "1.5.0",
            "_model_name": "DescriptionStyleModel",
            "_view_count": null,
            "_view_module": "@jupyter-widgets/base",
            "_view_module_version": "1.2.0",
            "_view_name": "StyleView",
            "description_width": ""
          }
        },
        "6fa10d206c0c48a8b4cbd603c72c3fc9": {
          "model_module": "@jupyter-widgets/base",
          "model_name": "LayoutModel",
          "model_module_version": "1.2.0",
          "state": {
            "_model_module": "@jupyter-widgets/base",
            "_model_module_version": "1.2.0",
            "_model_name": "LayoutModel",
            "_view_count": null,
            "_view_module": "@jupyter-widgets/base",
            "_view_module_version": "1.2.0",
            "_view_name": "LayoutView",
            "align_content": null,
            "align_items": null,
            "align_self": null,
            "border": null,
            "bottom": null,
            "display": null,
            "flex": null,
            "flex_flow": null,
            "grid_area": null,
            "grid_auto_columns": null,
            "grid_auto_flow": null,
            "grid_auto_rows": null,
            "grid_column": null,
            "grid_gap": null,
            "grid_row": null,
            "grid_template_areas": null,
            "grid_template_columns": null,
            "grid_template_rows": null,
            "height": null,
            "justify_content": null,
            "justify_items": null,
            "left": null,
            "margin": null,
            "max_height": null,
            "max_width": null,
            "min_height": null,
            "min_width": null,
            "object_fit": null,
            "object_position": null,
            "order": null,
            "overflow": null,
            "overflow_x": null,
            "overflow_y": null,
            "padding": null,
            "right": null,
            "top": null,
            "visibility": null,
            "width": null
          }
        },
        "7c979fbf7caa4a418f2624150dd9e1d5": {
          "model_module": "@jupyter-widgets/controls",
          "model_name": "ProgressStyleModel",
          "model_module_version": "1.5.0",
          "state": {
            "_model_module": "@jupyter-widgets/controls",
            "_model_module_version": "1.5.0",
            "_model_name": "ProgressStyleModel",
            "_view_count": null,
            "_view_module": "@jupyter-widgets/base",
            "_view_module_version": "1.2.0",
            "_view_name": "StyleView",
            "bar_color": null,
            "description_width": ""
          }
        },
        "54935b59a6274a72a964c4ec5f46fd3a": {
          "model_module": "@jupyter-widgets/base",
          "model_name": "LayoutModel",
          "model_module_version": "1.2.0",
          "state": {
            "_model_module": "@jupyter-widgets/base",
            "_model_module_version": "1.2.0",
            "_model_name": "LayoutModel",
            "_view_count": null,
            "_view_module": "@jupyter-widgets/base",
            "_view_module_version": "1.2.0",
            "_view_name": "LayoutView",
            "align_content": null,
            "align_items": null,
            "align_self": null,
            "border": null,
            "bottom": null,
            "display": null,
            "flex": null,
            "flex_flow": null,
            "grid_area": null,
            "grid_auto_columns": null,
            "grid_auto_flow": null,
            "grid_auto_rows": null,
            "grid_column": null,
            "grid_gap": null,
            "grid_row": null,
            "grid_template_areas": null,
            "grid_template_columns": null,
            "grid_template_rows": null,
            "height": null,
            "justify_content": null,
            "justify_items": null,
            "left": null,
            "margin": null,
            "max_height": null,
            "max_width": null,
            "min_height": null,
            "min_width": null,
            "object_fit": null,
            "object_position": null,
            "order": null,
            "overflow": null,
            "overflow_x": null,
            "overflow_y": null,
            "padding": null,
            "right": null,
            "top": null,
            "visibility": null,
            "width": null
          }
        },
        "e57f27521a6b42d9b98801b5c2f2cfd8": {
          "model_module": "@jupyter-widgets/controls",
          "model_name": "DescriptionStyleModel",
          "model_module_version": "1.5.0",
          "state": {
            "_model_module": "@jupyter-widgets/controls",
            "_model_module_version": "1.5.0",
            "_model_name": "DescriptionStyleModel",
            "_view_count": null,
            "_view_module": "@jupyter-widgets/base",
            "_view_module_version": "1.2.0",
            "_view_name": "StyleView",
            "description_width": ""
          }
        },
        "aca65208577c4aebbc03837d6a9ade57": {
          "model_module": "@jupyter-widgets/controls",
          "model_name": "HBoxModel",
          "model_module_version": "1.5.0",
          "state": {
            "_dom_classes": [],
            "_model_module": "@jupyter-widgets/controls",
            "_model_module_version": "1.5.0",
            "_model_name": "HBoxModel",
            "_view_count": null,
            "_view_module": "@jupyter-widgets/controls",
            "_view_module_version": "1.5.0",
            "_view_name": "HBoxView",
            "box_style": "",
            "children": [
              "IPY_MODEL_cefef9640dc64e929cd5ec1d033042c1",
              "IPY_MODEL_fab6fb64760c48fbbcd0afe94d3a0b23",
              "IPY_MODEL_ccd3df2ed7a3417d87bd048e210c7130"
            ],
            "layout": "IPY_MODEL_fb9ca837af6d4f8d92a4a660f2efbdd9"
          }
        },
        "cefef9640dc64e929cd5ec1d033042c1": {
          "model_module": "@jupyter-widgets/controls",
          "model_name": "HTMLModel",
          "model_module_version": "1.5.0",
          "state": {
            "_dom_classes": [],
            "_model_module": "@jupyter-widgets/controls",
            "_model_module_version": "1.5.0",
            "_model_name": "HTMLModel",
            "_view_count": null,
            "_view_module": "@jupyter-widgets/controls",
            "_view_module_version": "1.5.0",
            "_view_name": "HTMLView",
            "description": "",
            "description_tooltip": null,
            "layout": "IPY_MODEL_73806fd048c54c79aa5a4dff238d7209",
            "placeholder": "​",
            "style": "IPY_MODEL_111c4c37506e4224ae798fe7c9d61cc3",
            "value": "Train - Loss:0.1723 :   7%"
          }
        },
        "fab6fb64760c48fbbcd0afe94d3a0b23": {
          "model_module": "@jupyter-widgets/controls",
          "model_name": "FloatProgressModel",
          "model_module_version": "1.5.0",
          "state": {
            "_dom_classes": [],
            "_model_module": "@jupyter-widgets/controls",
            "_model_module_version": "1.5.0",
            "_model_name": "FloatProgressModel",
            "_view_count": null,
            "_view_module": "@jupyter-widgets/controls",
            "_view_module_version": "1.5.0",
            "_view_name": "ProgressView",
            "bar_style": "danger",
            "description": "",
            "description_tooltip": null,
            "layout": "IPY_MODEL_24dad1685d494c5496d3eab30ca1e3a9",
            "max": 642,
            "min": 0,
            "orientation": "horizontal",
            "style": "IPY_MODEL_6173f97a670f4409998b7d96f7af4f17",
            "value": 48
          }
        },
        "ccd3df2ed7a3417d87bd048e210c7130": {
          "model_module": "@jupyter-widgets/controls",
          "model_name": "HTMLModel",
          "model_module_version": "1.5.0",
          "state": {
            "_dom_classes": [],
            "_model_module": "@jupyter-widgets/controls",
            "_model_module_version": "1.5.0",
            "_model_name": "HTMLModel",
            "_view_count": null,
            "_view_module": "@jupyter-widgets/controls",
            "_view_module_version": "1.5.0",
            "_view_name": "HTMLView",
            "description": "",
            "description_tooltip": null,
            "layout": "IPY_MODEL_75926ef2c04948209357a3ab0c849316",
            "placeholder": "​",
            "style": "IPY_MODEL_08043106382341d7a622c4d831e47e8f",
            "value": " 48/642 [00:12&lt;02:25,  4.08it/s]"
          }
        },
        "fb9ca837af6d4f8d92a4a660f2efbdd9": {
          "model_module": "@jupyter-widgets/base",
          "model_name": "LayoutModel",
          "model_module_version": "1.2.0",
          "state": {
            "_model_module": "@jupyter-widgets/base",
            "_model_module_version": "1.2.0",
            "_model_name": "LayoutModel",
            "_view_count": null,
            "_view_module": "@jupyter-widgets/base",
            "_view_module_version": "1.2.0",
            "_view_name": "LayoutView",
            "align_content": null,
            "align_items": null,
            "align_self": null,
            "border": null,
            "bottom": null,
            "display": null,
            "flex": null,
            "flex_flow": null,
            "grid_area": null,
            "grid_auto_columns": null,
            "grid_auto_flow": null,
            "grid_auto_rows": null,
            "grid_column": null,
            "grid_gap": null,
            "grid_row": null,
            "grid_template_areas": null,
            "grid_template_columns": null,
            "grid_template_rows": null,
            "height": null,
            "justify_content": null,
            "justify_items": null,
            "left": null,
            "margin": null,
            "max_height": null,
            "max_width": null,
            "min_height": null,
            "min_width": null,
            "object_fit": null,
            "object_position": null,
            "order": null,
            "overflow": null,
            "overflow_x": null,
            "overflow_y": null,
            "padding": null,
            "right": null,
            "top": null,
            "visibility": null,
            "width": null
          }
        },
        "73806fd048c54c79aa5a4dff238d7209": {
          "model_module": "@jupyter-widgets/base",
          "model_name": "LayoutModel",
          "model_module_version": "1.2.0",
          "state": {
            "_model_module": "@jupyter-widgets/base",
            "_model_module_version": "1.2.0",
            "_model_name": "LayoutModel",
            "_view_count": null,
            "_view_module": "@jupyter-widgets/base",
            "_view_module_version": "1.2.0",
            "_view_name": "LayoutView",
            "align_content": null,
            "align_items": null,
            "align_self": null,
            "border": null,
            "bottom": null,
            "display": null,
            "flex": null,
            "flex_flow": null,
            "grid_area": null,
            "grid_auto_columns": null,
            "grid_auto_flow": null,
            "grid_auto_rows": null,
            "grid_column": null,
            "grid_gap": null,
            "grid_row": null,
            "grid_template_areas": null,
            "grid_template_columns": null,
            "grid_template_rows": null,
            "height": null,
            "justify_content": null,
            "justify_items": null,
            "left": null,
            "margin": null,
            "max_height": null,
            "max_width": null,
            "min_height": null,
            "min_width": null,
            "object_fit": null,
            "object_position": null,
            "order": null,
            "overflow": null,
            "overflow_x": null,
            "overflow_y": null,
            "padding": null,
            "right": null,
            "top": null,
            "visibility": null,
            "width": null
          }
        },
        "111c4c37506e4224ae798fe7c9d61cc3": {
          "model_module": "@jupyter-widgets/controls",
          "model_name": "DescriptionStyleModel",
          "model_module_version": "1.5.0",
          "state": {
            "_model_module": "@jupyter-widgets/controls",
            "_model_module_version": "1.5.0",
            "_model_name": "DescriptionStyleModel",
            "_view_count": null,
            "_view_module": "@jupyter-widgets/base",
            "_view_module_version": "1.2.0",
            "_view_name": "StyleView",
            "description_width": ""
          }
        },
        "24dad1685d494c5496d3eab30ca1e3a9": {
          "model_module": "@jupyter-widgets/base",
          "model_name": "LayoutModel",
          "model_module_version": "1.2.0",
          "state": {
            "_model_module": "@jupyter-widgets/base",
            "_model_module_version": "1.2.0",
            "_model_name": "LayoutModel",
            "_view_count": null,
            "_view_module": "@jupyter-widgets/base",
            "_view_module_version": "1.2.0",
            "_view_name": "LayoutView",
            "align_content": null,
            "align_items": null,
            "align_self": null,
            "border": null,
            "bottom": null,
            "display": null,
            "flex": null,
            "flex_flow": null,
            "grid_area": null,
            "grid_auto_columns": null,
            "grid_auto_flow": null,
            "grid_auto_rows": null,
            "grid_column": null,
            "grid_gap": null,
            "grid_row": null,
            "grid_template_areas": null,
            "grid_template_columns": null,
            "grid_template_rows": null,
            "height": null,
            "justify_content": null,
            "justify_items": null,
            "left": null,
            "margin": null,
            "max_height": null,
            "max_width": null,
            "min_height": null,
            "min_width": null,
            "object_fit": null,
            "object_position": null,
            "order": null,
            "overflow": null,
            "overflow_x": null,
            "overflow_y": null,
            "padding": null,
            "right": null,
            "top": null,
            "visibility": null,
            "width": null
          }
        },
        "6173f97a670f4409998b7d96f7af4f17": {
          "model_module": "@jupyter-widgets/controls",
          "model_name": "ProgressStyleModel",
          "model_module_version": "1.5.0",
          "state": {
            "_model_module": "@jupyter-widgets/controls",
            "_model_module_version": "1.5.0",
            "_model_name": "ProgressStyleModel",
            "_view_count": null,
            "_view_module": "@jupyter-widgets/base",
            "_view_module_version": "1.2.0",
            "_view_name": "StyleView",
            "bar_color": null,
            "description_width": ""
          }
        },
        "75926ef2c04948209357a3ab0c849316": {
          "model_module": "@jupyter-widgets/base",
          "model_name": "LayoutModel",
          "model_module_version": "1.2.0",
          "state": {
            "_model_module": "@jupyter-widgets/base",
            "_model_module_version": "1.2.0",
            "_model_name": "LayoutModel",
            "_view_count": null,
            "_view_module": "@jupyter-widgets/base",
            "_view_module_version": "1.2.0",
            "_view_name": "LayoutView",
            "align_content": null,
            "align_items": null,
            "align_self": null,
            "border": null,
            "bottom": null,
            "display": null,
            "flex": null,
            "flex_flow": null,
            "grid_area": null,
            "grid_auto_columns": null,
            "grid_auto_flow": null,
            "grid_auto_rows": null,
            "grid_column": null,
            "grid_gap": null,
            "grid_row": null,
            "grid_template_areas": null,
            "grid_template_columns": null,
            "grid_template_rows": null,
            "height": null,
            "justify_content": null,
            "justify_items": null,
            "left": null,
            "margin": null,
            "max_height": null,
            "max_width": null,
            "min_height": null,
            "min_width": null,
            "object_fit": null,
            "object_position": null,
            "order": null,
            "overflow": null,
            "overflow_x": null,
            "overflow_y": null,
            "padding": null,
            "right": null,
            "top": null,
            "visibility": null,
            "width": null
          }
        },
        "08043106382341d7a622c4d831e47e8f": {
          "model_module": "@jupyter-widgets/controls",
          "model_name": "DescriptionStyleModel",
          "model_module_version": "1.5.0",
          "state": {
            "_model_module": "@jupyter-widgets/controls",
            "_model_module_version": "1.5.0",
            "_model_name": "DescriptionStyleModel",
            "_view_count": null,
            "_view_module": "@jupyter-widgets/base",
            "_view_module_version": "1.2.0",
            "_view_name": "StyleView",
            "description_width": ""
          }
        }
      }
    },
    "colab": {
      "provenance": [],
      "gpuType": "A100",
      "machine_shape": "hm",
      "include_colab_link": true
    },
    "accelerator": "GPU"
  },
  "nbformat": 4,
  "nbformat_minor": 5
}